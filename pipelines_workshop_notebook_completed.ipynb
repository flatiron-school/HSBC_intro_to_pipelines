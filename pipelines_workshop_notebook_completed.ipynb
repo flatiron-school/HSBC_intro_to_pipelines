{
 "cells": [
  {
   "cell_type": "markdown",
   "metadata": {},
   "source": [
    "# Introduction to Pipelines in Python\n",
    "\n",
    "## Objectives\n",
    "- Understand what a pipeline is and why they are used\n",
    "- Implement a pipeline to streamline the preprocessing and modeling workflow\n",
    "\n",
    "## Why Pipeline?\n",
    "\n",
    "A pipeline defines a series of sequential steps or processes that data must \"flow\" through. Pipelines can keep our code neat and clean all the way from gathering & cleaning our data, to creating models & fine-tuning them!\n",
    "\n",
    "**Advantages**: \n",
    "- Reduces complexity\n",
    "- Convenient \n",
    "- Flexible \n",
    "- Can help prevent mistakes (like data leakage between train and test set) \n",
    "\n",
    "\n",
    "## Today's Agenda\n",
    "\n",
    "We'll introduce pipelines through the lens of simplifying the whole classification workflow!\n",
    "\n",
    "Our data: https://www.kaggle.com/competitions/spaceship-titanic/data\n",
    "\n",
    "The goal is to classify the `Transported` column (whether or not passenger was safely transported to new planet)\n",
    "\n",
    "The competition's main metric is accuracy.\n",
    "\n",
    "#### Agenda:\n",
    "- ML Workflow without Pipeline\n",
    "- Pipeline Architecture\n",
    "- Implement Pipeline into workflow"
   ]
  },
  {
   "cell_type": "code",
   "execution_count": 1,
   "metadata": {},
   "outputs": [],
   "source": [
    "import pandas as pd\n",
    "import numpy as np\n",
    "from matplotlib import pyplot as plt\n",
    "import seaborn as sns\n",
    "\n",
    "from sklearn.model_selection import train_test_split, GridSearchCV, cross_val_score\n",
    "from sklearn.pipeline import Pipeline\n",
    "from sklearn.preprocessing import StandardScaler, OneHotEncoder, FunctionTransformer\n",
    "from sklearn.impute import SimpleImputer\n",
    "from sklearn.compose import ColumnTransformer\n",
    "from sklearn.linear_model import LogisticRegression\n",
    "from sklearn.ensemble import RandomForestClassifier, GradientBoostingClassifier\n",
    "from sklearn.metrics import plot_confusion_matrix, recall_score, roc_auc_score,\\\n",
    "    accuracy_score, precision_score, f1_score\n",
    "from sklearn import set_config"
   ]
  },
  {
   "cell_type": "code",
   "execution_count": 2,
   "metadata": {},
   "outputs": [
    {
     "data": {
      "text/html": [
       "<div>\n",
       "<style scoped>\n",
       "    .dataframe tbody tr th:only-of-type {\n",
       "        vertical-align: middle;\n",
       "    }\n",
       "\n",
       "    .dataframe tbody tr th {\n",
       "        vertical-align: top;\n",
       "    }\n",
       "\n",
       "    .dataframe thead th {\n",
       "        text-align: right;\n",
       "    }\n",
       "</style>\n",
       "<table border=\"1\" class=\"dataframe\">\n",
       "  <thead>\n",
       "    <tr style=\"text-align: right;\">\n",
       "      <th></th>\n",
       "      <th>PassengerId</th>\n",
       "      <th>HomePlanet</th>\n",
       "      <th>CryoSleep</th>\n",
       "      <th>Cabin</th>\n",
       "      <th>Destination</th>\n",
       "      <th>Age</th>\n",
       "      <th>VIP</th>\n",
       "      <th>RoomService</th>\n",
       "      <th>FoodCourt</th>\n",
       "      <th>ShoppingMall</th>\n",
       "      <th>Spa</th>\n",
       "      <th>VRDeck</th>\n",
       "      <th>Name</th>\n",
       "      <th>Transported</th>\n",
       "    </tr>\n",
       "  </thead>\n",
       "  <tbody>\n",
       "    <tr>\n",
       "      <th>0</th>\n",
       "      <td>0001_01</td>\n",
       "      <td>Europa</td>\n",
       "      <td>False</td>\n",
       "      <td>B/0/P</td>\n",
       "      <td>TRAPPIST-1e</td>\n",
       "      <td>39.0</td>\n",
       "      <td>False</td>\n",
       "      <td>0.0</td>\n",
       "      <td>0.0</td>\n",
       "      <td>0.0</td>\n",
       "      <td>0.0</td>\n",
       "      <td>0.0</td>\n",
       "      <td>Maham Ofracculy</td>\n",
       "      <td>False</td>\n",
       "    </tr>\n",
       "    <tr>\n",
       "      <th>1</th>\n",
       "      <td>0002_01</td>\n",
       "      <td>Earth</td>\n",
       "      <td>False</td>\n",
       "      <td>F/0/S</td>\n",
       "      <td>TRAPPIST-1e</td>\n",
       "      <td>24.0</td>\n",
       "      <td>False</td>\n",
       "      <td>109.0</td>\n",
       "      <td>9.0</td>\n",
       "      <td>25.0</td>\n",
       "      <td>549.0</td>\n",
       "      <td>44.0</td>\n",
       "      <td>Juanna Vines</td>\n",
       "      <td>True</td>\n",
       "    </tr>\n",
       "    <tr>\n",
       "      <th>2</th>\n",
       "      <td>0003_01</td>\n",
       "      <td>Europa</td>\n",
       "      <td>False</td>\n",
       "      <td>A/0/S</td>\n",
       "      <td>TRAPPIST-1e</td>\n",
       "      <td>58.0</td>\n",
       "      <td>True</td>\n",
       "      <td>43.0</td>\n",
       "      <td>3576.0</td>\n",
       "      <td>0.0</td>\n",
       "      <td>6715.0</td>\n",
       "      <td>49.0</td>\n",
       "      <td>Altark Susent</td>\n",
       "      <td>False</td>\n",
       "    </tr>\n",
       "    <tr>\n",
       "      <th>3</th>\n",
       "      <td>0003_02</td>\n",
       "      <td>Europa</td>\n",
       "      <td>False</td>\n",
       "      <td>A/0/S</td>\n",
       "      <td>TRAPPIST-1e</td>\n",
       "      <td>33.0</td>\n",
       "      <td>False</td>\n",
       "      <td>0.0</td>\n",
       "      <td>1283.0</td>\n",
       "      <td>371.0</td>\n",
       "      <td>3329.0</td>\n",
       "      <td>193.0</td>\n",
       "      <td>Solam Susent</td>\n",
       "      <td>False</td>\n",
       "    </tr>\n",
       "    <tr>\n",
       "      <th>4</th>\n",
       "      <td>0004_01</td>\n",
       "      <td>Earth</td>\n",
       "      <td>False</td>\n",
       "      <td>F/1/S</td>\n",
       "      <td>TRAPPIST-1e</td>\n",
       "      <td>16.0</td>\n",
       "      <td>False</td>\n",
       "      <td>303.0</td>\n",
       "      <td>70.0</td>\n",
       "      <td>151.0</td>\n",
       "      <td>565.0</td>\n",
       "      <td>2.0</td>\n",
       "      <td>Willy Santantines</td>\n",
       "      <td>True</td>\n",
       "    </tr>\n",
       "  </tbody>\n",
       "</table>\n",
       "</div>"
      ],
      "text/plain": [
       "  PassengerId HomePlanet CryoSleep  Cabin  Destination   Age    VIP  \\\n",
       "0     0001_01     Europa     False  B/0/P  TRAPPIST-1e  39.0  False   \n",
       "1     0002_01      Earth     False  F/0/S  TRAPPIST-1e  24.0  False   \n",
       "2     0003_01     Europa     False  A/0/S  TRAPPIST-1e  58.0   True   \n",
       "3     0003_02     Europa     False  A/0/S  TRAPPIST-1e  33.0  False   \n",
       "4     0004_01      Earth     False  F/1/S  TRAPPIST-1e  16.0  False   \n",
       "\n",
       "   RoomService  FoodCourt  ShoppingMall     Spa  VRDeck               Name  \\\n",
       "0          0.0        0.0           0.0     0.0     0.0    Maham Ofracculy   \n",
       "1        109.0        9.0          25.0   549.0    44.0       Juanna Vines   \n",
       "2         43.0     3576.0           0.0  6715.0    49.0      Altark Susent   \n",
       "3          0.0     1283.0         371.0  3329.0   193.0       Solam Susent   \n",
       "4        303.0       70.0         151.0   565.0     2.0  Willy Santantines   \n",
       "\n",
       "   Transported  \n",
       "0        False  \n",
       "1         True  \n",
       "2        False  \n",
       "3        False  \n",
       "4         True  "
      ]
     },
     "execution_count": 2,
     "metadata": {},
     "output_type": "execute_result"
    }
   ],
   "source": [
    "df = pd.read_csv('data/space-titanic.csv')\n",
    "df.head()"
   ]
  },
  {
   "cell_type": "markdown",
   "metadata": {},
   "source": [
    "Perform a train-test split."
   ]
  },
  {
   "cell_type": "code",
   "execution_count": 3,
   "metadata": {},
   "outputs": [],
   "source": [
    "# Separate target and features\n",
    "X = df.drop(columns=['Transported'])\n",
    "y = df['Transported']"
   ]
  },
  {
   "cell_type": "code",
   "execution_count": 4,
   "metadata": {},
   "outputs": [],
   "source": [
    "# 80/20 Train Test Split\n",
    "X_train, X_test, y_train, y_test = train_test_split(X, y, test_size=.2, random_state=42)"
   ]
  },
  {
   "cell_type": "markdown",
   "metadata": {},
   "source": [
    "## ML Workflow without Pipeline\n",
    "\n",
    "Before we dive into pipelines, let's explore the data and outline a few of the preprocessing steps we'll use later!\n",
    "\n",
    "### EDA\n",
    "\n",
    "Explore **training** data, checking both numerical and categorical features."
   ]
  },
  {
   "cell_type": "code",
   "execution_count": 5,
   "metadata": {},
   "outputs": [
    {
     "name": "stdout",
     "output_type": "stream",
     "text": [
      "<class 'pandas.core.frame.DataFrame'>\n",
      "Int64Index: 5354 entries, 2821 to 860\n",
      "Data columns (total 13 columns):\n",
      " #   Column        Non-Null Count  Dtype  \n",
      "---  ------        --------------  -----  \n",
      " 0   PassengerId   5354 non-null   object \n",
      " 1   HomePlanet    5227 non-null   object \n",
      " 2   CryoSleep     5223 non-null   object \n",
      " 3   Cabin         5238 non-null   object \n",
      " 4   Destination   5223 non-null   object \n",
      " 5   Age           5248 non-null   float64\n",
      " 6   VIP           5246 non-null   object \n",
      " 7   RoomService   5239 non-null   float64\n",
      " 8   FoodCourt     5247 non-null   float64\n",
      " 9   ShoppingMall  5215 non-null   float64\n",
      " 10  Spa           5233 non-null   float64\n",
      " 11  VRDeck        5253 non-null   float64\n",
      " 12  Name          5230 non-null   object \n",
      "dtypes: float64(6), object(7)\n",
      "memory usage: 585.6+ KB\n"
     ]
    }
   ],
   "source": [
    "X_train.info()"
   ]
  },
  {
   "cell_type": "code",
   "execution_count": 6,
   "metadata": {},
   "outputs": [
    {
     "data": {
      "text/plain": [
       "PassengerId       0\n",
       "HomePlanet      127\n",
       "CryoSleep       131\n",
       "Cabin           116\n",
       "Destination     131\n",
       "Age             106\n",
       "VIP             108\n",
       "RoomService     115\n",
       "FoodCourt       107\n",
       "ShoppingMall    139\n",
       "Spa             121\n",
       "VRDeck          101\n",
       "Name            124\n",
       "dtype: int64"
      ]
     },
     "execution_count": 6,
     "metadata": {},
     "output_type": "execute_result"
    }
   ],
   "source": [
    "X_train.isna().sum()"
   ]
  },
  {
   "cell_type": "code",
   "execution_count": 7,
   "metadata": {},
   "outputs": [
    {
     "data": {
      "text/plain": [
       "0"
      ]
     },
     "execution_count": 7,
     "metadata": {},
     "output_type": "execute_result"
    }
   ],
   "source": [
    "y_train.isna().sum()"
   ]
  },
  {
   "cell_type": "code",
   "execution_count": 8,
   "metadata": {},
   "outputs": [
    {
     "data": {
      "text/plain": [
       "<AxesSubplot:>"
      ]
     },
     "execution_count": 8,
     "metadata": {},
     "output_type": "execute_result"
    },
    {
     "data": {
      "image/png": "[encoded data removed]",
      "text/plain": [
       "<Figure size 432x288 with 1 Axes>"
      ]
     },
     "metadata": {
      "needs_background": "light"
     },
     "output_type": "display_data"
    }
   ],
   "source": [
    "y_train.value_counts().plot.bar()"
   ]
  },
  {
   "cell_type": "code",
   "execution_count": 10,
   "metadata": {},
   "outputs": [
    {
     "data": {
      "text/html": [
       "<div>\n",
       "<style scoped>\n",
       "    .dataframe tbody tr th:only-of-type {\n",
       "        vertical-align: middle;\n",
       "    }\n",
       "\n",
       "    .dataframe tbody tr th {\n",
       "        vertical-align: top;\n",
       "    }\n",
       "\n",
       "    .dataframe thead th {\n",
       "        text-align: right;\n",
       "    }\n",
       "</style>\n",
       "<table border=\"1\" class=\"dataframe\">\n",
       "  <thead>\n",
       "    <tr style=\"text-align: right;\">\n",
       "      <th></th>\n",
       "      <th>Age</th>\n",
       "      <th>RoomService</th>\n",
       "      <th>FoodCourt</th>\n",
       "      <th>ShoppingMall</th>\n",
       "      <th>Spa</th>\n",
       "      <th>VRDeck</th>\n",
       "    </tr>\n",
       "  </thead>\n",
       "  <tbody>\n",
       "    <tr>\n",
       "      <th>count</th>\n",
       "      <td>5248.000000</td>\n",
       "      <td>5239.000000</td>\n",
       "      <td>5247.000000</td>\n",
       "      <td>5215.000000</td>\n",
       "      <td>5233.000000</td>\n",
       "      <td>5253.000000</td>\n",
       "    </tr>\n",
       "    <tr>\n",
       "      <th>mean</th>\n",
       "      <td>28.757241</td>\n",
       "      <td>225.140294</td>\n",
       "      <td>465.724033</td>\n",
       "      <td>175.651007</td>\n",
       "      <td>312.986050</td>\n",
       "      <td>289.920046</td>\n",
       "    </tr>\n",
       "    <tr>\n",
       "      <th>std</th>\n",
       "      <td>14.436131</td>\n",
       "      <td>669.961513</td>\n",
       "      <td>1670.162509</td>\n",
       "      <td>630.302286</td>\n",
       "      <td>1165.836151</td>\n",
       "      <td>1073.166045</td>\n",
       "    </tr>\n",
       "    <tr>\n",
       "      <th>min</th>\n",
       "      <td>0.000000</td>\n",
       "      <td>0.000000</td>\n",
       "      <td>0.000000</td>\n",
       "      <td>0.000000</td>\n",
       "      <td>0.000000</td>\n",
       "      <td>0.000000</td>\n",
       "    </tr>\n",
       "    <tr>\n",
       "      <th>25%</th>\n",
       "      <td>19.000000</td>\n",
       "      <td>0.000000</td>\n",
       "      <td>0.000000</td>\n",
       "      <td>0.000000</td>\n",
       "      <td>0.000000</td>\n",
       "      <td>0.000000</td>\n",
       "    </tr>\n",
       "    <tr>\n",
       "      <th>50%</th>\n",
       "      <td>27.000000</td>\n",
       "      <td>0.000000</td>\n",
       "      <td>0.000000</td>\n",
       "      <td>0.000000</td>\n",
       "      <td>0.000000</td>\n",
       "      <td>0.000000</td>\n",
       "    </tr>\n",
       "    <tr>\n",
       "      <th>75%</th>\n",
       "      <td>38.000000</td>\n",
       "      <td>48.000000</td>\n",
       "      <td>64.500000</td>\n",
       "      <td>23.000000</td>\n",
       "      <td>57.000000</td>\n",
       "      <td>44.000000</td>\n",
       "    </tr>\n",
       "    <tr>\n",
       "      <th>max</th>\n",
       "      <td>79.000000</td>\n",
       "      <td>14327.000000</td>\n",
       "      <td>27723.000000</td>\n",
       "      <td>23492.000000</td>\n",
       "      <td>22408.000000</td>\n",
       "      <td>20336.000000</td>\n",
       "    </tr>\n",
       "  </tbody>\n",
       "</table>\n",
       "</div>"
      ],
      "text/plain": [
       "               Age   RoomService     FoodCourt  ShoppingMall           Spa  \\\n",
       "count  5248.000000   5239.000000   5247.000000   5215.000000   5233.000000   \n",
       "mean     28.757241    225.140294    465.724033    175.651007    312.986050   \n",
       "std      14.436131    669.961513   1670.162509    630.302286   1165.836151   \n",
       "min       0.000000      0.000000      0.000000      0.000000      0.000000   \n",
       "25%      19.000000      0.000000      0.000000      0.000000      0.000000   \n",
       "50%      27.000000      0.000000      0.000000      0.000000      0.000000   \n",
       "75%      38.000000     48.000000     64.500000     23.000000     57.000000   \n",
       "max      79.000000  14327.000000  27723.000000  23492.000000  22408.000000   \n",
       "\n",
       "             VRDeck  \n",
       "count   5253.000000  \n",
       "mean     289.920046  \n",
       "std     1073.166045  \n",
       "min        0.000000  \n",
       "25%        0.000000  \n",
       "50%        0.000000  \n",
       "75%       44.000000  \n",
       "max    20336.000000  "
      ]
     },
     "execution_count": 10,
     "metadata": {},
     "output_type": "execute_result"
    }
   ],
   "source": [
    "X_train.describe()"
   ]
  },
  {
   "cell_type": "code",
   "execution_count": 13,
   "metadata": {},
   "outputs": [
    {
     "data": {
      "text/plain": [
       "<AxesSubplot:>"
      ]
     },
     "execution_count": 13,
     "metadata": {},
     "output_type": "execute_result"
    },
    {
     "data": {
      "image/png": "[encoded data removed]",
      "text/plain": [
       "<Figure size 720x432 with 1 Axes>"
      ]
     },
     "metadata": {
      "needs_background": "light"
     },
     "output_type": "display_data"
    }
   ],
   "source": [
    "X_train['ShoppingMall'].hist(figsize=(10,6))"
   ]
  },
  {
   "cell_type": "code",
   "execution_count": 14,
   "metadata": {},
   "outputs": [
    {
     "data": {
      "text/html": [
       "<div>\n",
       "<style scoped>\n",
       "    .dataframe tbody tr th:only-of-type {\n",
       "        vertical-align: middle;\n",
       "    }\n",
       "\n",
       "    .dataframe tbody tr th {\n",
       "        vertical-align: top;\n",
       "    }\n",
       "\n",
       "    .dataframe thead th {\n",
       "        text-align: right;\n",
       "    }\n",
       "</style>\n",
       "<table border=\"1\" class=\"dataframe\">\n",
       "  <thead>\n",
       "    <tr style=\"text-align: right;\">\n",
       "      <th></th>\n",
       "      <th>PassengerId</th>\n",
       "      <th>HomePlanet</th>\n",
       "      <th>CryoSleep</th>\n",
       "      <th>Cabin</th>\n",
       "      <th>Destination</th>\n",
       "      <th>VIP</th>\n",
       "      <th>Name</th>\n",
       "    </tr>\n",
       "  </thead>\n",
       "  <tbody>\n",
       "    <tr>\n",
       "      <th>count</th>\n",
       "      <td>5354</td>\n",
       "      <td>5227</td>\n",
       "      <td>5223</td>\n",
       "      <td>5238</td>\n",
       "      <td>5223</td>\n",
       "      <td>5246</td>\n",
       "      <td>5230</td>\n",
       "    </tr>\n",
       "    <tr>\n",
       "      <th>unique</th>\n",
       "      <td>5354</td>\n",
       "      <td>3</td>\n",
       "      <td>2</td>\n",
       "      <td>4360</td>\n",
       "      <td>3</td>\n",
       "      <td>2</td>\n",
       "      <td>5225</td>\n",
       "    </tr>\n",
       "    <tr>\n",
       "      <th>top</th>\n",
       "      <td>3949_01</td>\n",
       "      <td>Earth</td>\n",
       "      <td>False</td>\n",
       "      <td>C/137/S</td>\n",
       "      <td>TRAPPIST-1e</td>\n",
       "      <td>False</td>\n",
       "      <td>Asch Stradick</td>\n",
       "    </tr>\n",
       "    <tr>\n",
       "      <th>freq</th>\n",
       "      <td>1</td>\n",
       "      <td>2836</td>\n",
       "      <td>3319</td>\n",
       "      <td>7</td>\n",
       "      <td>3637</td>\n",
       "      <td>5123</td>\n",
       "      <td>2</td>\n",
       "    </tr>\n",
       "  </tbody>\n",
       "</table>\n",
       "</div>"
      ],
      "text/plain": [
       "       PassengerId HomePlanet CryoSleep    Cabin  Destination    VIP  \\\n",
       "count         5354       5227      5223     5238         5223   5246   \n",
       "unique        5354          3         2     4360            3      2   \n",
       "top        3949_01      Earth     False  C/137/S  TRAPPIST-1e  False   \n",
       "freq             1       2836      3319        7         3637   5123   \n",
       "\n",
       "                 Name  \n",
       "count            5230  \n",
       "unique           5225  \n",
       "top     Asch Stradick  \n",
       "freq                2  "
      ]
     },
     "execution_count": 14,
     "metadata": {},
     "output_type": "execute_result"
    }
   ],
   "source": [
    "X_train.describe(include='object')"
   ]
  },
  {
   "cell_type": "code",
   "execution_count": null,
   "metadata": {},
   "outputs": [],
   "source": []
  },
  {
   "cell_type": "code",
   "execution_count": null,
   "metadata": {},
   "outputs": [],
   "source": []
  },
  {
   "cell_type": "code",
   "execution_count": null,
   "metadata": {},
   "outputs": [],
   "source": []
  },
  {
   "cell_type": "code",
   "execution_count": null,
   "metadata": {},
   "outputs": [],
   "source": []
  },
  {
   "cell_type": "markdown",
   "metadata": {},
   "source": [
    "### EDA Notes:\n",
    "\n",
    "- Both numerical and categorical columns (process differently)\n",
    "- All features are missing values\n",
    "- Target column is full and balanced\n",
    "- Few of the object columns of thousands of unique values (not appropriate OHE)\n",
    "\n",
    "### Data Preprocessing\n",
    "\n",
    "- Numerical\n",
    "    - Impute with median (skew in distributions)\n",
    "    - StandardScale\n",
    "- Categorical\n",
    "    - Impute most_frequent\n",
    "    - OHE"
   ]
  },
  {
   "cell_type": "code",
   "execution_count": 18,
   "metadata": {},
   "outputs": [],
   "source": [
    "# List of numerical and categorical column names to process the data separately\n",
    "num_cols = list(X_train.select_dtypes(include='number').columns)\n",
    "cat_cols = ['HomePlanet', 'CryoSleep', 'Destination', 'VIP']"
   ]
  },
  {
   "cell_type": "markdown",
   "metadata": {},
   "source": [
    "Instantiate SimpleImputer and StandardScaler to process numerical data"
   ]
  },
  {
   "cell_type": "code",
   "execution_count": 19,
   "metadata": {},
   "outputs": [],
   "source": [
    "num_imputer = SimpleImputer(strategy='median')\n",
    "num_scaler = StandardScaler()"
   ]
  },
  {
   "cell_type": "code",
   "execution_count": 20,
   "metadata": {},
   "outputs": [],
   "source": [
    "X_train_pre = X_train.copy()"
   ]
  },
  {
   "cell_type": "code",
   "execution_count": 21,
   "metadata": {},
   "outputs": [
    {
     "data": {
      "text/html": [
       "<div>\n",
       "<style scoped>\n",
       "    .dataframe tbody tr th:only-of-type {\n",
       "        vertical-align: middle;\n",
       "    }\n",
       "\n",
       "    .dataframe tbody tr th {\n",
       "        vertical-align: top;\n",
       "    }\n",
       "\n",
       "    .dataframe thead th {\n",
       "        text-align: right;\n",
       "    }\n",
       "</style>\n",
       "<table border=\"1\" class=\"dataframe\">\n",
       "  <thead>\n",
       "    <tr style=\"text-align: right;\">\n",
       "      <th></th>\n",
       "      <th>Age</th>\n",
       "      <th>RoomService</th>\n",
       "      <th>FoodCourt</th>\n",
       "      <th>ShoppingMall</th>\n",
       "      <th>Spa</th>\n",
       "      <th>VRDeck</th>\n",
       "    </tr>\n",
       "  </thead>\n",
       "  <tbody>\n",
       "    <tr>\n",
       "      <th>2821</th>\n",
       "      <td>14.0</td>\n",
       "      <td>781.0</td>\n",
       "      <td>0.0</td>\n",
       "      <td>1.0</td>\n",
       "      <td>4.0</td>\n",
       "      <td>1.0</td>\n",
       "    </tr>\n",
       "    <tr>\n",
       "      <th>3875</th>\n",
       "      <td>36.0</td>\n",
       "      <td>386.0</td>\n",
       "      <td>0.0</td>\n",
       "      <td>756.0</td>\n",
       "      <td>6.0</td>\n",
       "      <td>0.0</td>\n",
       "    </tr>\n",
       "    <tr>\n",
       "      <th>807</th>\n",
       "      <td>32.0</td>\n",
       "      <td>0.0</td>\n",
       "      <td>1755.0</td>\n",
       "      <td>0.0</td>\n",
       "      <td>0.0</td>\n",
       "      <td>67.0</td>\n",
       "    </tr>\n",
       "    <tr>\n",
       "      <th>462</th>\n",
       "      <td>38.0</td>\n",
       "      <td>0.0</td>\n",
       "      <td>0.0</td>\n",
       "      <td>0.0</td>\n",
       "      <td>1018.0</td>\n",
       "      <td>0.0</td>\n",
       "    </tr>\n",
       "    <tr>\n",
       "      <th>879</th>\n",
       "      <td>21.0</td>\n",
       "      <td>0.0</td>\n",
       "      <td>0.0</td>\n",
       "      <td>0.0</td>\n",
       "      <td>0.0</td>\n",
       "      <td>0.0</td>\n",
       "    </tr>\n",
       "    <tr>\n",
       "      <th>...</th>\n",
       "      <td>...</td>\n",
       "      <td>...</td>\n",
       "      <td>...</td>\n",
       "      <td>...</td>\n",
       "      <td>...</td>\n",
       "      <td>...</td>\n",
       "    </tr>\n",
       "    <tr>\n",
       "      <th>3772</th>\n",
       "      <td>8.0</td>\n",
       "      <td>0.0</td>\n",
       "      <td>0.0</td>\n",
       "      <td>0.0</td>\n",
       "      <td>0.0</td>\n",
       "      <td>0.0</td>\n",
       "    </tr>\n",
       "    <tr>\n",
       "      <th>5191</th>\n",
       "      <td>22.0</td>\n",
       "      <td>0.0</td>\n",
       "      <td>0.0</td>\n",
       "      <td>1128.0</td>\n",
       "      <td>0.0</td>\n",
       "      <td>45.0</td>\n",
       "    </tr>\n",
       "    <tr>\n",
       "      <th>5226</th>\n",
       "      <td>28.0</td>\n",
       "      <td>0.0</td>\n",
       "      <td>0.0</td>\n",
       "      <td>0.0</td>\n",
       "      <td>0.0</td>\n",
       "      <td>0.0</td>\n",
       "    </tr>\n",
       "    <tr>\n",
       "      <th>5390</th>\n",
       "      <td>34.0</td>\n",
       "      <td>0.0</td>\n",
       "      <td>0.0</td>\n",
       "      <td>0.0</td>\n",
       "      <td>0.0</td>\n",
       "      <td>0.0</td>\n",
       "    </tr>\n",
       "    <tr>\n",
       "      <th>860</th>\n",
       "      <td>50.0</td>\n",
       "      <td>0.0</td>\n",
       "      <td>5473.0</td>\n",
       "      <td>0.0</td>\n",
       "      <td>703.0</td>\n",
       "      <td>6381.0</td>\n",
       "    </tr>\n",
       "  </tbody>\n",
       "</table>\n",
       "<p>5354 rows × 6 columns</p>\n",
       "</div>"
      ],
      "text/plain": [
       "       Age  RoomService  FoodCourt  ShoppingMall     Spa  VRDeck\n",
       "2821  14.0        781.0        0.0           1.0     4.0     1.0\n",
       "3875  36.0        386.0        0.0         756.0     6.0     0.0\n",
       "807   32.0          0.0     1755.0           0.0     0.0    67.0\n",
       "462   38.0          0.0        0.0           0.0  1018.0     0.0\n",
       "879   21.0          0.0        0.0           0.0     0.0     0.0\n",
       "...    ...          ...        ...           ...     ...     ...\n",
       "3772   8.0          0.0        0.0           0.0     0.0     0.0\n",
       "5191  22.0          0.0        0.0        1128.0     0.0    45.0\n",
       "5226  28.0          0.0        0.0           0.0     0.0     0.0\n",
       "5390  34.0          0.0        0.0           0.0     0.0     0.0\n",
       "860   50.0          0.0     5473.0           0.0   703.0  6381.0\n",
       "\n",
       "[5354 rows x 6 columns]"
      ]
     },
     "execution_count": 21,
     "metadata": {},
     "output_type": "execute_result"
    }
   ],
   "source": [
    "X_train_pre[num_cols]"
   ]
  },
  {
   "cell_type": "code",
   "execution_count": 22,
   "metadata": {},
   "outputs": [
    {
     "data": {
      "text/plain": [
       "SimpleImputer(strategy='median')"
      ]
     },
     "execution_count": 22,
     "metadata": {},
     "output_type": "execute_result"
    }
   ],
   "source": [
    "# Fit num_imputer to training data\n",
    "num_imputer.fit(X_train_pre[num_cols])"
   ]
  },
  {
   "cell_type": "code",
   "execution_count": 23,
   "metadata": {},
   "outputs": [],
   "source": [
    "X_train_pre[num_cols] = num_imputer.transform(X_train_pre[num_cols])"
   ]
  },
  {
   "cell_type": "code",
   "execution_count": 24,
   "metadata": {},
   "outputs": [
    {
     "data": {
      "text/plain": [
       "Age             0\n",
       "RoomService     0\n",
       "FoodCourt       0\n",
       "ShoppingMall    0\n",
       "Spa             0\n",
       "VRDeck          0\n",
       "dtype: int64"
      ]
     },
     "execution_count": 24,
     "metadata": {},
     "output_type": "execute_result"
    }
   ],
   "source": [
    "X_train_pre[num_cols].isna().sum()"
   ]
  },
  {
   "cell_type": "code",
   "execution_count": 26,
   "metadata": {},
   "outputs": [
    {
     "data": {
      "text/plain": [
       "StandardScaler()"
      ]
     },
     "execution_count": 26,
     "metadata": {},
     "output_type": "execute_result"
    }
   ],
   "source": [
    "# Fit scaler\n",
    "num_scaler.fit(X_train_pre[num_cols])"
   ]
  },
  {
   "cell_type": "code",
   "execution_count": 27,
   "metadata": {},
   "outputs": [],
   "source": [
    "# Scale numerical data\n",
    "X_train_pre[num_cols] = num_scaler.transform(X_train_pre[num_cols])"
   ]
  },
  {
   "cell_type": "code",
   "execution_count": 41,
   "metadata": {},
   "outputs": [
    {
     "data": {
      "text/html": [
       "<div>\n",
       "<style scoped>\n",
       "    .dataframe tbody tr th:only-of-type {\n",
       "        vertical-align: middle;\n",
       "    }\n",
       "\n",
       "    .dataframe tbody tr th {\n",
       "        vertical-align: top;\n",
       "    }\n",
       "\n",
       "    .dataframe thead th {\n",
       "        text-align: right;\n",
       "    }\n",
       "</style>\n",
       "<table border=\"1\" class=\"dataframe\">\n",
       "  <thead>\n",
       "    <tr style=\"text-align: right;\">\n",
       "      <th></th>\n",
       "      <th>Age</th>\n",
       "      <th>RoomService</th>\n",
       "      <th>FoodCourt</th>\n",
       "      <th>ShoppingMall</th>\n",
       "      <th>Spa</th>\n",
       "      <th>VRDeck</th>\n",
       "    </tr>\n",
       "  </thead>\n",
       "  <tbody>\n",
       "    <tr>\n",
       "      <th>2821</th>\n",
       "      <td>14.0</td>\n",
       "      <td>781.0</td>\n",
       "      <td>0.0</td>\n",
       "      <td>1.0</td>\n",
       "      <td>4.0</td>\n",
       "      <td>1.0</td>\n",
       "    </tr>\n",
       "    <tr>\n",
       "      <th>3875</th>\n",
       "      <td>36.0</td>\n",
       "      <td>386.0</td>\n",
       "      <td>0.0</td>\n",
       "      <td>756.0</td>\n",
       "      <td>6.0</td>\n",
       "      <td>0.0</td>\n",
       "    </tr>\n",
       "    <tr>\n",
       "      <th>807</th>\n",
       "      <td>32.0</td>\n",
       "      <td>0.0</td>\n",
       "      <td>1755.0</td>\n",
       "      <td>0.0</td>\n",
       "      <td>0.0</td>\n",
       "      <td>67.0</td>\n",
       "    </tr>\n",
       "    <tr>\n",
       "      <th>462</th>\n",
       "      <td>38.0</td>\n",
       "      <td>0.0</td>\n",
       "      <td>0.0</td>\n",
       "      <td>0.0</td>\n",
       "      <td>1018.0</td>\n",
       "      <td>0.0</td>\n",
       "    </tr>\n",
       "    <tr>\n",
       "      <th>879</th>\n",
       "      <td>21.0</td>\n",
       "      <td>0.0</td>\n",
       "      <td>0.0</td>\n",
       "      <td>0.0</td>\n",
       "      <td>0.0</td>\n",
       "      <td>0.0</td>\n",
       "    </tr>\n",
       "    <tr>\n",
       "      <th>...</th>\n",
       "      <td>...</td>\n",
       "      <td>...</td>\n",
       "      <td>...</td>\n",
       "      <td>...</td>\n",
       "      <td>...</td>\n",
       "      <td>...</td>\n",
       "    </tr>\n",
       "    <tr>\n",
       "      <th>3772</th>\n",
       "      <td>8.0</td>\n",
       "      <td>0.0</td>\n",
       "      <td>0.0</td>\n",
       "      <td>0.0</td>\n",
       "      <td>0.0</td>\n",
       "      <td>0.0</td>\n",
       "    </tr>\n",
       "    <tr>\n",
       "      <th>5191</th>\n",
       "      <td>22.0</td>\n",
       "      <td>0.0</td>\n",
       "      <td>0.0</td>\n",
       "      <td>1128.0</td>\n",
       "      <td>0.0</td>\n",
       "      <td>45.0</td>\n",
       "    </tr>\n",
       "    <tr>\n",
       "      <th>5226</th>\n",
       "      <td>28.0</td>\n",
       "      <td>0.0</td>\n",
       "      <td>0.0</td>\n",
       "      <td>0.0</td>\n",
       "      <td>0.0</td>\n",
       "      <td>0.0</td>\n",
       "    </tr>\n",
       "    <tr>\n",
       "      <th>5390</th>\n",
       "      <td>34.0</td>\n",
       "      <td>0.0</td>\n",
       "      <td>0.0</td>\n",
       "      <td>0.0</td>\n",
       "      <td>0.0</td>\n",
       "      <td>0.0</td>\n",
       "    </tr>\n",
       "    <tr>\n",
       "      <th>860</th>\n",
       "      <td>50.0</td>\n",
       "      <td>0.0</td>\n",
       "      <td>5473.0</td>\n",
       "      <td>0.0</td>\n",
       "      <td>703.0</td>\n",
       "      <td>6381.0</td>\n",
       "    </tr>\n",
       "  </tbody>\n",
       "</table>\n",
       "<p>5354 rows × 6 columns</p>\n",
       "</div>"
      ],
      "text/plain": [
       "       Age  RoomService  FoodCourt  ShoppingMall     Spa  VRDeck\n",
       "2821  14.0        781.0        0.0           1.0     4.0     1.0\n",
       "3875  36.0        386.0        0.0         756.0     6.0     0.0\n",
       "807   32.0          0.0     1755.0           0.0     0.0    67.0\n",
       "462   38.0          0.0        0.0           0.0  1018.0     0.0\n",
       "879   21.0          0.0        0.0           0.0     0.0     0.0\n",
       "...    ...          ...        ...           ...     ...     ...\n",
       "3772   8.0          0.0        0.0           0.0     0.0     0.0\n",
       "5191  22.0          0.0        0.0        1128.0     0.0    45.0\n",
       "5226  28.0          0.0        0.0           0.0     0.0     0.0\n",
       "5390  34.0          0.0        0.0           0.0     0.0     0.0\n",
       "860   50.0          0.0     5473.0           0.0   703.0  6381.0\n",
       "\n",
       "[5354 rows x 6 columns]"
      ]
     },
     "execution_count": 41,
     "metadata": {},
     "output_type": "execute_result"
    }
   ],
   "source": [
    "X_train[num_cols]"
   ]
  },
  {
   "cell_type": "code",
   "execution_count": 42,
   "metadata": {},
   "outputs": [
    {
     "data": {
      "text/plain": [
       "count    5248.000000\n",
       "mean       28.757241\n",
       "std        14.436131\n",
       "min         0.000000\n",
       "25%        19.000000\n",
       "50%        27.000000\n",
       "75%        38.000000\n",
       "max        79.000000\n",
       "Name: Age, dtype: float64"
      ]
     },
     "execution_count": 42,
     "metadata": {},
     "output_type": "execute_result"
    }
   ],
   "source": [
    "X_train['Age'].describe()"
   ]
  },
  {
   "cell_type": "code",
   "execution_count": 28,
   "metadata": {},
   "outputs": [
    {
     "data": {
      "text/html": [
       "<div>\n",
       "<style scoped>\n",
       "    .dataframe tbody tr th:only-of-type {\n",
       "        vertical-align: middle;\n",
       "    }\n",
       "\n",
       "    .dataframe tbody tr th {\n",
       "        vertical-align: top;\n",
       "    }\n",
       "\n",
       "    .dataframe thead th {\n",
       "        text-align: right;\n",
       "    }\n",
       "</style>\n",
       "<table border=\"1\" class=\"dataframe\">\n",
       "  <thead>\n",
       "    <tr style=\"text-align: right;\">\n",
       "      <th></th>\n",
       "      <th>Age</th>\n",
       "      <th>RoomService</th>\n",
       "      <th>FoodCourt</th>\n",
       "      <th>ShoppingMall</th>\n",
       "      <th>Spa</th>\n",
       "      <th>VRDeck</th>\n",
       "    </tr>\n",
       "  </thead>\n",
       "  <tbody>\n",
       "    <tr>\n",
       "      <th>2821</th>\n",
       "      <td>-1.030028</td>\n",
       "      <td>0.845099</td>\n",
       "      <td>-0.275861</td>\n",
       "      <td>-0.273179</td>\n",
       "      <td>-0.261755</td>\n",
       "      <td>-0.266495</td>\n",
       "    </tr>\n",
       "    <tr>\n",
       "      <th>3875</th>\n",
       "      <td>0.509160</td>\n",
       "      <td>0.249742</td>\n",
       "      <td>-0.275861</td>\n",
       "      <td>0.939411</td>\n",
       "      <td>-0.260021</td>\n",
       "      <td>-0.267435</td>\n",
       "    </tr>\n",
       "    <tr>\n",
       "      <th>807</th>\n",
       "      <td>0.229308</td>\n",
       "      <td>-0.332050</td>\n",
       "      <td>0.784872</td>\n",
       "      <td>-0.274786</td>\n",
       "      <td>-0.265223</td>\n",
       "      <td>-0.204443</td>\n",
       "    </tr>\n",
       "    <tr>\n",
       "      <th>462</th>\n",
       "      <td>0.649086</td>\n",
       "      <td>-0.332050</td>\n",
       "      <td>-0.275861</td>\n",
       "      <td>-0.274786</td>\n",
       "      <td>0.617373</td>\n",
       "      <td>-0.267435</td>\n",
       "    </tr>\n",
       "    <tr>\n",
       "      <th>879</th>\n",
       "      <td>-0.540287</td>\n",
       "      <td>-0.332050</td>\n",
       "      <td>-0.275861</td>\n",
       "      <td>-0.274786</td>\n",
       "      <td>-0.265223</td>\n",
       "      <td>-0.267435</td>\n",
       "    </tr>\n",
       "    <tr>\n",
       "      <th>...</th>\n",
       "      <td>...</td>\n",
       "      <td>...</td>\n",
       "      <td>...</td>\n",
       "      <td>...</td>\n",
       "      <td>...</td>\n",
       "      <td>...</td>\n",
       "    </tr>\n",
       "    <tr>\n",
       "      <th>3772</th>\n",
       "      <td>-1.449807</td>\n",
       "      <td>-0.332050</td>\n",
       "      <td>-0.275861</td>\n",
       "      <td>-0.274786</td>\n",
       "      <td>-0.265223</td>\n",
       "      <td>-0.267435</td>\n",
       "    </tr>\n",
       "    <tr>\n",
       "      <th>5191</th>\n",
       "      <td>-0.470324</td>\n",
       "      <td>-0.332050</td>\n",
       "      <td>-0.275861</td>\n",
       "      <td>1.536873</td>\n",
       "      <td>-0.265223</td>\n",
       "      <td>-0.225127</td>\n",
       "    </tr>\n",
       "    <tr>\n",
       "      <th>5226</th>\n",
       "      <td>-0.050545</td>\n",
       "      <td>-0.332050</td>\n",
       "      <td>-0.275861</td>\n",
       "      <td>-0.274786</td>\n",
       "      <td>-0.265223</td>\n",
       "      <td>-0.267435</td>\n",
       "    </tr>\n",
       "    <tr>\n",
       "      <th>5390</th>\n",
       "      <td>0.369234</td>\n",
       "      <td>-0.332050</td>\n",
       "      <td>-0.275861</td>\n",
       "      <td>-0.274786</td>\n",
       "      <td>-0.265223</td>\n",
       "      <td>-0.267435</td>\n",
       "    </tr>\n",
       "    <tr>\n",
       "      <th>860</th>\n",
       "      <td>1.488644</td>\n",
       "      <td>-0.332050</td>\n",
       "      <td>3.032055</td>\n",
       "      <td>-0.274786</td>\n",
       "      <td>0.344271</td>\n",
       "      <td>5.731855</td>\n",
       "    </tr>\n",
       "  </tbody>\n",
       "</table>\n",
       "<p>5354 rows × 6 columns</p>\n",
       "</div>"
      ],
      "text/plain": [
       "           Age  RoomService  FoodCourt  ShoppingMall       Spa    VRDeck\n",
       "2821 -1.030028     0.845099  -0.275861     -0.273179 -0.261755 -0.266495\n",
       "3875  0.509160     0.249742  -0.275861      0.939411 -0.260021 -0.267435\n",
       "807   0.229308    -0.332050   0.784872     -0.274786 -0.265223 -0.204443\n",
       "462   0.649086    -0.332050  -0.275861     -0.274786  0.617373 -0.267435\n",
       "879  -0.540287    -0.332050  -0.275861     -0.274786 -0.265223 -0.267435\n",
       "...        ...          ...        ...           ...       ...       ...\n",
       "3772 -1.449807    -0.332050  -0.275861     -0.274786 -0.265223 -0.267435\n",
       "5191 -0.470324    -0.332050  -0.275861      1.536873 -0.265223 -0.225127\n",
       "5226 -0.050545    -0.332050  -0.275861     -0.274786 -0.265223 -0.267435\n",
       "5390  0.369234    -0.332050  -0.275861     -0.274786 -0.265223 -0.267435\n",
       "860   1.488644    -0.332050   3.032055     -0.274786  0.344271  5.731855\n",
       "\n",
       "[5354 rows x 6 columns]"
      ]
     },
     "execution_count": 28,
     "metadata": {},
     "output_type": "execute_result"
    }
   ],
   "source": [
    "X_train_pre[num_cols]"
   ]
  },
  {
   "cell_type": "code",
   "execution_count": 29,
   "metadata": {},
   "outputs": [],
   "source": [
    "logreg = LogisticRegression()"
   ]
  },
  {
   "cell_type": "code",
   "execution_count": 31,
   "metadata": {},
   "outputs": [
    {
     "data": {
      "text/plain": [
       "LogisticRegression()"
      ]
     },
     "execution_count": 31,
     "metadata": {},
     "output_type": "execute_result"
    }
   ],
   "source": [
    "logreg.fit(X_train_pre[num_cols], y_train)"
   ]
  },
  {
   "cell_type": "code",
   "execution_count": 32,
   "metadata": {},
   "outputs": [
    {
     "data": {
      "text/plain": [
       "0.7807246918192006"
      ]
     },
     "execution_count": 32,
     "metadata": {},
     "output_type": "execute_result"
    }
   ],
   "source": [
    "logreg.score(X_train_pre[num_cols], y_train)"
   ]
  },
  {
   "cell_type": "code",
   "execution_count": 33,
   "metadata": {},
   "outputs": [
    {
     "data": {
      "text/plain": [
       "<sklearn.metrics._plot.confusion_matrix.ConfusionMatrixDisplay at 0x7ff47ba49d30>"
      ]
     },
     "execution_count": 33,
     "metadata": {},
     "output_type": "execute_result"
    },
    {
     "data": {
      "image/png": "[encoded data removed]",
      "text/plain": [
       "<Figure size 432x288 with 2 Axes>"
      ]
     },
     "metadata": {
      "needs_background": "light"
     },
     "output_type": "display_data"
    }
   ],
   "source": [
    "plot_confusion_matrix(logreg, X_train_pre[num_cols], y_train)"
   ]
  },
  {
   "cell_type": "markdown",
   "metadata": {},
   "source": [
    "Prep test data for prediction"
   ]
  },
  {
   "cell_type": "code",
   "execution_count": 34,
   "metadata": {},
   "outputs": [],
   "source": [
    "X_test_pre = X_test.copy()"
   ]
  },
  {
   "cell_type": "code",
   "execution_count": 35,
   "metadata": {},
   "outputs": [],
   "source": [
    "X_test_pre[num_cols] = num_imputer.transform(X_test_pre[num_cols])"
   ]
  },
  {
   "cell_type": "code",
   "execution_count": 36,
   "metadata": {},
   "outputs": [],
   "source": [
    "X_test_pre[num_cols] = num_scaler.transform(X_test_pre[num_cols])"
   ]
  },
  {
   "cell_type": "code",
   "execution_count": 38,
   "metadata": {},
   "outputs": [
    {
     "data": {
      "text/plain": [
       "Age             0\n",
       "RoomService     0\n",
       "FoodCourt       0\n",
       "ShoppingMall    0\n",
       "Spa             0\n",
       "VRDeck          0\n",
       "dtype: int64"
      ]
     },
     "execution_count": 38,
     "metadata": {},
     "output_type": "execute_result"
    }
   ],
   "source": [
    "X_test_pre[num_cols].isna().sum()"
   ]
  },
  {
   "cell_type": "code",
   "execution_count": 39,
   "metadata": {},
   "outputs": [
    {
     "data": {
      "text/html": [
       "<div>\n",
       "<style scoped>\n",
       "    .dataframe tbody tr th:only-of-type {\n",
       "        vertical-align: middle;\n",
       "    }\n",
       "\n",
       "    .dataframe tbody tr th {\n",
       "        vertical-align: top;\n",
       "    }\n",
       "\n",
       "    .dataframe thead th {\n",
       "        text-align: right;\n",
       "    }\n",
       "</style>\n",
       "<table border=\"1\" class=\"dataframe\">\n",
       "  <thead>\n",
       "    <tr style=\"text-align: right;\">\n",
       "      <th></th>\n",
       "      <th>Age</th>\n",
       "      <th>RoomService</th>\n",
       "      <th>FoodCourt</th>\n",
       "      <th>ShoppingMall</th>\n",
       "      <th>Spa</th>\n",
       "      <th>VRDeck</th>\n",
       "    </tr>\n",
       "  </thead>\n",
       "  <tbody>\n",
       "    <tr>\n",
       "      <th>5356</th>\n",
       "      <td>0.229308</td>\n",
       "      <td>-0.041154</td>\n",
       "      <td>-0.275861</td>\n",
       "      <td>1.517600</td>\n",
       "      <td>-0.265223</td>\n",
       "      <td>-0.267435</td>\n",
       "    </tr>\n",
       "    <tr>\n",
       "      <th>5491</th>\n",
       "      <td>-0.540287</td>\n",
       "      <td>0.599420</td>\n",
       "      <td>-0.255916</td>\n",
       "      <td>-0.273179</td>\n",
       "      <td>-0.263489</td>\n",
       "      <td>-0.267435</td>\n",
       "    </tr>\n",
       "    <tr>\n",
       "      <th>179</th>\n",
       "      <td>-0.120508</td>\n",
       "      <td>-0.332050</td>\n",
       "      <td>-0.275861</td>\n",
       "      <td>-0.274786</td>\n",
       "      <td>-0.265223</td>\n",
       "      <td>-0.267435</td>\n",
       "    </tr>\n",
       "    <tr>\n",
       "      <th>5472</th>\n",
       "      <td>2.678016</td>\n",
       "      <td>-0.332050</td>\n",
       "      <td>-0.275861</td>\n",
       "      <td>-0.274786</td>\n",
       "      <td>-0.265223</td>\n",
       "      <td>-0.267435</td>\n",
       "    </tr>\n",
       "    <tr>\n",
       "      <th>6578</th>\n",
       "      <td>1.488644</td>\n",
       "      <td>-0.332050</td>\n",
       "      <td>-0.275861</td>\n",
       "      <td>-0.274786</td>\n",
       "      <td>-0.265223</td>\n",
       "      <td>-0.267435</td>\n",
       "    </tr>\n",
       "  </tbody>\n",
       "</table>\n",
       "</div>"
      ],
      "text/plain": [
       "           Age  RoomService  FoodCourt  ShoppingMall       Spa    VRDeck\n",
       "5356  0.229308    -0.041154  -0.275861      1.517600 -0.265223 -0.267435\n",
       "5491 -0.540287     0.599420  -0.255916     -0.273179 -0.263489 -0.267435\n",
       "179  -0.120508    -0.332050  -0.275861     -0.274786 -0.265223 -0.267435\n",
       "5472  2.678016    -0.332050  -0.275861     -0.274786 -0.265223 -0.267435\n",
       "6578  1.488644    -0.332050  -0.275861     -0.274786 -0.265223 -0.267435"
      ]
     },
     "execution_count": 39,
     "metadata": {},
     "output_type": "execute_result"
    }
   ],
   "source": [
    "X_test_pre[num_cols].head()"
   ]
  },
  {
   "cell_type": "code",
   "execution_count": 40,
   "metadata": {},
   "outputs": [
    {
     "data": {
      "text/plain": [
       "0.7625093353248693"
      ]
     },
     "execution_count": 40,
     "metadata": {},
     "output_type": "execute_result"
    }
   ],
   "source": [
    "logreg.score(X_test_pre[num_cols], y_test)"
   ]
  },
  {
   "cell_type": "markdown",
   "metadata": {},
   "source": [
    "## Introducing ML Pipeline\n",
    "\n",
    "Let's begin exploring pipelines and how we can implement them into our workflow. We'll start by reviewing the process we went through above and discuss how we should construct our pipeline architecture.\n",
    "\n",
    "Two fundamental components:\n",
    "- Transformer(s)\n",
    "- Estimator(s)\n",
    "\n",
    "![Pipeline Architecture Diagram](./Pipeline_Architecture.png)\n",
    "\n",
    "\n",
    "The primary tool we will use is sklearn's [Pipeline object](https://scikit-learn.org/stable/modules/generated/sklearn.pipeline.Pipeline.html). \n",
    "Since the preprocessing steps differ for numerical and categorical data, we will also utilize sklearn's [ColumnTransformer](https://scikit-learn.org/stable/modules/generated/sklearn.compose.ColumnTransformer.html) to specify the correct steps for different columns.\n",
    "\n",
    "### Create and Explore a Pipeline\n",
    "\n",
    "The first thing we should do is handle the preprocessing steps. Let's create a pipeline for preprocessing the categorical columns we didn't get to earlier."
   ]
  },
  {
   "cell_type": "code",
   "execution_count": 44,
   "metadata": {},
   "outputs": [],
   "source": [
    "# Create pipeline to preprocess categorical data\n",
    "cat_transformer = Pipeline(steps = [\n",
    "    ('impute', SimpleImputer(strategy='most_frequent')),\n",
    "    ('ohe', OneHotEncoder(sparse=False))\n",
    "])"
   ]
  },
  {
   "cell_type": "code",
   "execution_count": 45,
   "metadata": {},
   "outputs": [
    {
     "data": {
      "text/plain": [
       "Pipeline(steps=[('impute', SimpleImputer(strategy='most_frequent')),\n",
       "                ('ohe', OneHotEncoder(sparse=False))])"
      ]
     },
     "execution_count": 45,
     "metadata": {},
     "output_type": "execute_result"
    }
   ],
   "source": [
    "# Fit pipeline like any other transformer\n",
    "cat_transformer.fit(X_train_pre[cat_cols])"
   ]
  },
  {
   "cell_type": "code",
   "execution_count": 48,
   "metadata": {},
   "outputs": [
    {
     "data": {
      "text/html": [
       "<div>\n",
       "<style scoped>\n",
       "    .dataframe tbody tr th:only-of-type {\n",
       "        vertical-align: middle;\n",
       "    }\n",
       "\n",
       "    .dataframe tbody tr th {\n",
       "        vertical-align: top;\n",
       "    }\n",
       "\n",
       "    .dataframe thead th {\n",
       "        text-align: right;\n",
       "    }\n",
       "</style>\n",
       "<table border=\"1\" class=\"dataframe\">\n",
       "  <thead>\n",
       "    <tr style=\"text-align: right;\">\n",
       "      <th></th>\n",
       "      <th>HomePlanet</th>\n",
       "      <th>CryoSleep</th>\n",
       "      <th>Destination</th>\n",
       "      <th>VIP</th>\n",
       "    </tr>\n",
       "  </thead>\n",
       "  <tbody>\n",
       "    <tr>\n",
       "      <th>2821</th>\n",
       "      <td>Earth</td>\n",
       "      <td>False</td>\n",
       "      <td>TRAPPIST-1e</td>\n",
       "      <td>False</td>\n",
       "    </tr>\n",
       "    <tr>\n",
       "      <th>3875</th>\n",
       "      <td>Mars</td>\n",
       "      <td>False</td>\n",
       "      <td>TRAPPIST-1e</td>\n",
       "      <td>False</td>\n",
       "    </tr>\n",
       "    <tr>\n",
       "      <th>807</th>\n",
       "      <td>Earth</td>\n",
       "      <td>False</td>\n",
       "      <td>TRAPPIST-1e</td>\n",
       "      <td>False</td>\n",
       "    </tr>\n",
       "    <tr>\n",
       "      <th>462</th>\n",
       "      <td>Earth</td>\n",
       "      <td>False</td>\n",
       "      <td>TRAPPIST-1e</td>\n",
       "      <td>False</td>\n",
       "    </tr>\n",
       "    <tr>\n",
       "      <th>879</th>\n",
       "      <td>Mars</td>\n",
       "      <td>True</td>\n",
       "      <td>TRAPPIST-1e</td>\n",
       "      <td>False</td>\n",
       "    </tr>\n",
       "    <tr>\n",
       "      <th>...</th>\n",
       "      <td>...</td>\n",
       "      <td>...</td>\n",
       "      <td>...</td>\n",
       "      <td>...</td>\n",
       "    </tr>\n",
       "    <tr>\n",
       "      <th>3772</th>\n",
       "      <td>Mars</td>\n",
       "      <td>True</td>\n",
       "      <td>TRAPPIST-1e</td>\n",
       "      <td>False</td>\n",
       "    </tr>\n",
       "    <tr>\n",
       "      <th>5191</th>\n",
       "      <td>Mars</td>\n",
       "      <td>False</td>\n",
       "      <td>TRAPPIST-1e</td>\n",
       "      <td>False</td>\n",
       "    </tr>\n",
       "    <tr>\n",
       "      <th>5226</th>\n",
       "      <td>Earth</td>\n",
       "      <td>True</td>\n",
       "      <td>PSO J318.5-22</td>\n",
       "      <td>False</td>\n",
       "    </tr>\n",
       "    <tr>\n",
       "      <th>5390</th>\n",
       "      <td>Mars</td>\n",
       "      <td>True</td>\n",
       "      <td>TRAPPIST-1e</td>\n",
       "      <td>False</td>\n",
       "    </tr>\n",
       "    <tr>\n",
       "      <th>860</th>\n",
       "      <td>Europa</td>\n",
       "      <td>False</td>\n",
       "      <td>55 Cancri e</td>\n",
       "      <td>True</td>\n",
       "    </tr>\n",
       "  </tbody>\n",
       "</table>\n",
       "<p>5354 rows × 4 columns</p>\n",
       "</div>"
      ],
      "text/plain": [
       "     HomePlanet CryoSleep    Destination    VIP\n",
       "2821      Earth     False    TRAPPIST-1e  False\n",
       "3875       Mars     False    TRAPPIST-1e  False\n",
       "807       Earth     False    TRAPPIST-1e  False\n",
       "462       Earth     False    TRAPPIST-1e  False\n",
       "879        Mars      True    TRAPPIST-1e  False\n",
       "...         ...       ...            ...    ...\n",
       "3772       Mars      True    TRAPPIST-1e  False\n",
       "5191       Mars     False    TRAPPIST-1e  False\n",
       "5226      Earth      True  PSO J318.5-22  False\n",
       "5390       Mars      True    TRAPPIST-1e  False\n",
       "860      Europa     False    55 Cancri e   True\n",
       "\n",
       "[5354 rows x 4 columns]"
      ]
     },
     "execution_count": 48,
     "metadata": {},
     "output_type": "execute_result"
    }
   ],
   "source": [
    "X_train_pre[cat_cols]"
   ]
  },
  {
   "cell_type": "code",
   "execution_count": 54,
   "metadata": {},
   "outputs": [
    {
     "data": {
      "text/html": [
       "<div>\n",
       "<style scoped>\n",
       "    .dataframe tbody tr th:only-of-type {\n",
       "        vertical-align: middle;\n",
       "    }\n",
       "\n",
       "    .dataframe tbody tr th {\n",
       "        vertical-align: top;\n",
       "    }\n",
       "\n",
       "    .dataframe thead th {\n",
       "        text-align: right;\n",
       "    }\n",
       "</style>\n",
       "<table border=\"1\" class=\"dataframe\">\n",
       "  <thead>\n",
       "    <tr style=\"text-align: right;\">\n",
       "      <th></th>\n",
       "      <th>x0_Earth</th>\n",
       "      <th>x0_Europa</th>\n",
       "      <th>x0_Mars</th>\n",
       "      <th>x1_False</th>\n",
       "      <th>x1_True</th>\n",
       "      <th>x2_55 Cancri e</th>\n",
       "      <th>x2_PSO J318.5-22</th>\n",
       "      <th>x2_TRAPPIST-1e</th>\n",
       "      <th>x3_False</th>\n",
       "      <th>x3_True</th>\n",
       "    </tr>\n",
       "  </thead>\n",
       "  <tbody>\n",
       "    <tr>\n",
       "      <th>0</th>\n",
       "      <td>1.0</td>\n",
       "      <td>0.0</td>\n",
       "      <td>0.0</td>\n",
       "      <td>1.0</td>\n",
       "      <td>0.0</td>\n",
       "      <td>0.0</td>\n",
       "      <td>0.0</td>\n",
       "      <td>1.0</td>\n",
       "      <td>1.0</td>\n",
       "      <td>0.0</td>\n",
       "    </tr>\n",
       "    <tr>\n",
       "      <th>1</th>\n",
       "      <td>0.0</td>\n",
       "      <td>0.0</td>\n",
       "      <td>1.0</td>\n",
       "      <td>1.0</td>\n",
       "      <td>0.0</td>\n",
       "      <td>0.0</td>\n",
       "      <td>0.0</td>\n",
       "      <td>1.0</td>\n",
       "      <td>1.0</td>\n",
       "      <td>0.0</td>\n",
       "    </tr>\n",
       "    <tr>\n",
       "      <th>2</th>\n",
       "      <td>1.0</td>\n",
       "      <td>0.0</td>\n",
       "      <td>0.0</td>\n",
       "      <td>1.0</td>\n",
       "      <td>0.0</td>\n",
       "      <td>0.0</td>\n",
       "      <td>0.0</td>\n",
       "      <td>1.0</td>\n",
       "      <td>1.0</td>\n",
       "      <td>0.0</td>\n",
       "    </tr>\n",
       "    <tr>\n",
       "      <th>3</th>\n",
       "      <td>1.0</td>\n",
       "      <td>0.0</td>\n",
       "      <td>0.0</td>\n",
       "      <td>1.0</td>\n",
       "      <td>0.0</td>\n",
       "      <td>0.0</td>\n",
       "      <td>0.0</td>\n",
       "      <td>1.0</td>\n",
       "      <td>1.0</td>\n",
       "      <td>0.0</td>\n",
       "    </tr>\n",
       "    <tr>\n",
       "      <th>4</th>\n",
       "      <td>0.0</td>\n",
       "      <td>0.0</td>\n",
       "      <td>1.0</td>\n",
       "      <td>0.0</td>\n",
       "      <td>1.0</td>\n",
       "      <td>0.0</td>\n",
       "      <td>0.0</td>\n",
       "      <td>1.0</td>\n",
       "      <td>1.0</td>\n",
       "      <td>0.0</td>\n",
       "    </tr>\n",
       "    <tr>\n",
       "      <th>...</th>\n",
       "      <td>...</td>\n",
       "      <td>...</td>\n",
       "      <td>...</td>\n",
       "      <td>...</td>\n",
       "      <td>...</td>\n",
       "      <td>...</td>\n",
       "      <td>...</td>\n",
       "      <td>...</td>\n",
       "      <td>...</td>\n",
       "      <td>...</td>\n",
       "    </tr>\n",
       "    <tr>\n",
       "      <th>5349</th>\n",
       "      <td>0.0</td>\n",
       "      <td>0.0</td>\n",
       "      <td>1.0</td>\n",
       "      <td>0.0</td>\n",
       "      <td>1.0</td>\n",
       "      <td>0.0</td>\n",
       "      <td>0.0</td>\n",
       "      <td>1.0</td>\n",
       "      <td>1.0</td>\n",
       "      <td>0.0</td>\n",
       "    </tr>\n",
       "    <tr>\n",
       "      <th>5350</th>\n",
       "      <td>0.0</td>\n",
       "      <td>0.0</td>\n",
       "      <td>1.0</td>\n",
       "      <td>1.0</td>\n",
       "      <td>0.0</td>\n",
       "      <td>0.0</td>\n",
       "      <td>0.0</td>\n",
       "      <td>1.0</td>\n",
       "      <td>1.0</td>\n",
       "      <td>0.0</td>\n",
       "    </tr>\n",
       "    <tr>\n",
       "      <th>5351</th>\n",
       "      <td>1.0</td>\n",
       "      <td>0.0</td>\n",
       "      <td>0.0</td>\n",
       "      <td>0.0</td>\n",
       "      <td>1.0</td>\n",
       "      <td>0.0</td>\n",
       "      <td>1.0</td>\n",
       "      <td>0.0</td>\n",
       "      <td>1.0</td>\n",
       "      <td>0.0</td>\n",
       "    </tr>\n",
       "    <tr>\n",
       "      <th>5352</th>\n",
       "      <td>0.0</td>\n",
       "      <td>0.0</td>\n",
       "      <td>1.0</td>\n",
       "      <td>0.0</td>\n",
       "      <td>1.0</td>\n",
       "      <td>0.0</td>\n",
       "      <td>0.0</td>\n",
       "      <td>1.0</td>\n",
       "      <td>1.0</td>\n",
       "      <td>0.0</td>\n",
       "    </tr>\n",
       "    <tr>\n",
       "      <th>5353</th>\n",
       "      <td>0.0</td>\n",
       "      <td>1.0</td>\n",
       "      <td>0.0</td>\n",
       "      <td>1.0</td>\n",
       "      <td>0.0</td>\n",
       "      <td>1.0</td>\n",
       "      <td>0.0</td>\n",
       "      <td>0.0</td>\n",
       "      <td>0.0</td>\n",
       "      <td>1.0</td>\n",
       "    </tr>\n",
       "  </tbody>\n",
       "</table>\n",
       "<p>5354 rows × 10 columns</p>\n",
       "</div>"
      ],
      "text/plain": [
       "      x0_Earth  x0_Europa  x0_Mars  x1_False  x1_True  x2_55 Cancri e  \\\n",
       "0          1.0        0.0      0.0       1.0      0.0             0.0   \n",
       "1          0.0        0.0      1.0       1.0      0.0             0.0   \n",
       "2          1.0        0.0      0.0       1.0      0.0             0.0   \n",
       "3          1.0        0.0      0.0       1.0      0.0             0.0   \n",
       "4          0.0        0.0      1.0       0.0      1.0             0.0   \n",
       "...        ...        ...      ...       ...      ...             ...   \n",
       "5349       0.0        0.0      1.0       0.0      1.0             0.0   \n",
       "5350       0.0        0.0      1.0       1.0      0.0             0.0   \n",
       "5351       1.0        0.0      0.0       0.0      1.0             0.0   \n",
       "5352       0.0        0.0      1.0       0.0      1.0             0.0   \n",
       "5353       0.0        1.0      0.0       1.0      0.0             1.0   \n",
       "\n",
       "      x2_PSO J318.5-22  x2_TRAPPIST-1e  x3_False  x3_True  \n",
       "0                  0.0             1.0       1.0      0.0  \n",
       "1                  0.0             1.0       1.0      0.0  \n",
       "2                  0.0             1.0       1.0      0.0  \n",
       "3                  0.0             1.0       1.0      0.0  \n",
       "4                  0.0             1.0       1.0      0.0  \n",
       "...                ...             ...       ...      ...  \n",
       "5349               0.0             1.0       1.0      0.0  \n",
       "5350               0.0             1.0       1.0      0.0  \n",
       "5351               1.0             0.0       1.0      0.0  \n",
       "5352               0.0             1.0       1.0      0.0  \n",
       "5353               0.0             0.0       0.0      1.0  \n",
       "\n",
       "[5354 rows x 10 columns]"
      ]
     },
     "execution_count": 54,
     "metadata": {},
     "output_type": "execute_result"
    }
   ],
   "source": [
    "pd.DataFrame(cat_transformer.transform(X_train_pre[cat_cols]), \n",
    "                columns=cat_transformer.named_steps['ohe'].get_feature_names())"
   ]
  },
  {
   "cell_type": "code",
   "execution_count": 53,
   "metadata": {},
   "outputs": [
    {
     "data": {
      "text/plain": [
       "array(['x0_Earth', 'x0_Europa', 'x0_Mars', 'x1_False', 'x1_True',\n",
       "       'x2_55 Cancri e', 'x2_PSO J318.5-22', 'x2_TRAPPIST-1e', 'x3_False',\n",
       "       'x3_True'], dtype=object)"
      ]
     },
     "execution_count": 53,
     "metadata": {},
     "output_type": "execute_result"
    }
   ],
   "source": [
    "cat_transformer.named_steps['ohe'].get_feature_names()"
   ]
  },
  {
   "cell_type": "code",
   "execution_count": 56,
   "metadata": {},
   "outputs": [
    {
     "data": {
      "text/plain": [
       "Pipeline(steps=[('impute', SimpleImputer(strategy='most_frequent')),\n",
       "                ('ohe', OneHotEncoder(sparse=False))])"
      ]
     },
     "execution_count": 56,
     "metadata": {},
     "output_type": "execute_result"
    }
   ],
   "source": [
    "set_config(display='text')\n",
    "cat_transformer"
   ]
  },
  {
   "cell_type": "code",
   "execution_count": null,
   "metadata": {},
   "outputs": [],
   "source": []
  },
  {
   "cell_type": "code",
   "execution_count": null,
   "metadata": {},
   "outputs": [],
   "source": []
  },
  {
   "cell_type": "markdown",
   "metadata": {},
   "source": [
    "### Complete Process\n",
    "\n",
    "- Pipeline to process numerical columns\n",
    "- ColumnTransformer\n",
    "- Final pipeline"
   ]
  },
  {
   "cell_type": "code",
   "execution_count": 57,
   "metadata": {},
   "outputs": [],
   "source": [
    "# Create pipeline to handle numerical features\n",
    "num_transformer = Pipeline(steps = [\n",
    "    ('imputer', SimpleImputer(strategy='median')),\n",
    "    ('scaler', StandardScaler())\n",
    "])"
   ]
  },
  {
   "cell_type": "code",
   "execution_count": 58,
   "metadata": {},
   "outputs": [
    {
     "data": {
      "text/plain": [
       "Pipeline(steps=[('imputer', SimpleImputer(strategy='median')),\n",
       "                ('scaler', StandardScaler())])"
      ]
     },
     "execution_count": 58,
     "metadata": {},
     "output_type": "execute_result"
    }
   ],
   "source": [
    "num_transformer.fit(X_train[num_cols])"
   ]
  },
  {
   "cell_type": "code",
   "execution_count": 59,
   "metadata": {},
   "outputs": [
    {
     "data": {
      "text/html": [
       "<div>\n",
       "<style scoped>\n",
       "    .dataframe tbody tr th:only-of-type {\n",
       "        vertical-align: middle;\n",
       "    }\n",
       "\n",
       "    .dataframe tbody tr th {\n",
       "        vertical-align: top;\n",
       "    }\n",
       "\n",
       "    .dataframe thead th {\n",
       "        text-align: right;\n",
       "    }\n",
       "</style>\n",
       "<table border=\"1\" class=\"dataframe\">\n",
       "  <thead>\n",
       "    <tr style=\"text-align: right;\">\n",
       "      <th></th>\n",
       "      <th>Age</th>\n",
       "      <th>RoomService</th>\n",
       "      <th>FoodCourt</th>\n",
       "      <th>ShoppingMall</th>\n",
       "      <th>Spa</th>\n",
       "      <th>VRDeck</th>\n",
       "    </tr>\n",
       "  </thead>\n",
       "  <tbody>\n",
       "    <tr>\n",
       "      <th>0</th>\n",
       "      <td>-1.030028</td>\n",
       "      <td>0.845099</td>\n",
       "      <td>-0.275861</td>\n",
       "      <td>-0.273179</td>\n",
       "      <td>-0.261755</td>\n",
       "      <td>-0.266495</td>\n",
       "    </tr>\n",
       "    <tr>\n",
       "      <th>1</th>\n",
       "      <td>0.509160</td>\n",
       "      <td>0.249742</td>\n",
       "      <td>-0.275861</td>\n",
       "      <td>0.939411</td>\n",
       "      <td>-0.260021</td>\n",
       "      <td>-0.267435</td>\n",
       "    </tr>\n",
       "    <tr>\n",
       "      <th>2</th>\n",
       "      <td>0.229308</td>\n",
       "      <td>-0.332050</td>\n",
       "      <td>0.784872</td>\n",
       "      <td>-0.274786</td>\n",
       "      <td>-0.265223</td>\n",
       "      <td>-0.204443</td>\n",
       "    </tr>\n",
       "    <tr>\n",
       "      <th>3</th>\n",
       "      <td>0.649086</td>\n",
       "      <td>-0.332050</td>\n",
       "      <td>-0.275861</td>\n",
       "      <td>-0.274786</td>\n",
       "      <td>0.617373</td>\n",
       "      <td>-0.267435</td>\n",
       "    </tr>\n",
       "    <tr>\n",
       "      <th>4</th>\n",
       "      <td>-0.540287</td>\n",
       "      <td>-0.332050</td>\n",
       "      <td>-0.275861</td>\n",
       "      <td>-0.274786</td>\n",
       "      <td>-0.265223</td>\n",
       "      <td>-0.267435</td>\n",
       "    </tr>\n",
       "    <tr>\n",
       "      <th>...</th>\n",
       "      <td>...</td>\n",
       "      <td>...</td>\n",
       "      <td>...</td>\n",
       "      <td>...</td>\n",
       "      <td>...</td>\n",
       "      <td>...</td>\n",
       "    </tr>\n",
       "    <tr>\n",
       "      <th>5349</th>\n",
       "      <td>-1.449807</td>\n",
       "      <td>-0.332050</td>\n",
       "      <td>-0.275861</td>\n",
       "      <td>-0.274786</td>\n",
       "      <td>-0.265223</td>\n",
       "      <td>-0.267435</td>\n",
       "    </tr>\n",
       "    <tr>\n",
       "      <th>5350</th>\n",
       "      <td>-0.470324</td>\n",
       "      <td>-0.332050</td>\n",
       "      <td>-0.275861</td>\n",
       "      <td>1.536873</td>\n",
       "      <td>-0.265223</td>\n",
       "      <td>-0.225127</td>\n",
       "    </tr>\n",
       "    <tr>\n",
       "      <th>5351</th>\n",
       "      <td>-0.050545</td>\n",
       "      <td>-0.332050</td>\n",
       "      <td>-0.275861</td>\n",
       "      <td>-0.274786</td>\n",
       "      <td>-0.265223</td>\n",
       "      <td>-0.267435</td>\n",
       "    </tr>\n",
       "    <tr>\n",
       "      <th>5352</th>\n",
       "      <td>0.369234</td>\n",
       "      <td>-0.332050</td>\n",
       "      <td>-0.275861</td>\n",
       "      <td>-0.274786</td>\n",
       "      <td>-0.265223</td>\n",
       "      <td>-0.267435</td>\n",
       "    </tr>\n",
       "    <tr>\n",
       "      <th>5353</th>\n",
       "      <td>1.488644</td>\n",
       "      <td>-0.332050</td>\n",
       "      <td>3.032055</td>\n",
       "      <td>-0.274786</td>\n",
       "      <td>0.344271</td>\n",
       "      <td>5.731855</td>\n",
       "    </tr>\n",
       "  </tbody>\n",
       "</table>\n",
       "<p>5354 rows × 6 columns</p>\n",
       "</div>"
      ],
      "text/plain": [
       "           Age  RoomService  FoodCourt  ShoppingMall       Spa    VRDeck\n",
       "0    -1.030028     0.845099  -0.275861     -0.273179 -0.261755 -0.266495\n",
       "1     0.509160     0.249742  -0.275861      0.939411 -0.260021 -0.267435\n",
       "2     0.229308    -0.332050   0.784872     -0.274786 -0.265223 -0.204443\n",
       "3     0.649086    -0.332050  -0.275861     -0.274786  0.617373 -0.267435\n",
       "4    -0.540287    -0.332050  -0.275861     -0.274786 -0.265223 -0.267435\n",
       "...        ...          ...        ...           ...       ...       ...\n",
       "5349 -1.449807    -0.332050  -0.275861     -0.274786 -0.265223 -0.267435\n",
       "5350 -0.470324    -0.332050  -0.275861      1.536873 -0.265223 -0.225127\n",
       "5351 -0.050545    -0.332050  -0.275861     -0.274786 -0.265223 -0.267435\n",
       "5352  0.369234    -0.332050  -0.275861     -0.274786 -0.265223 -0.267435\n",
       "5353  1.488644    -0.332050   3.032055     -0.274786  0.344271  5.731855\n",
       "\n",
       "[5354 rows x 6 columns]"
      ]
     },
     "execution_count": 59,
     "metadata": {},
     "output_type": "execute_result"
    }
   ],
   "source": [
    "pd.DataFrame(num_transformer.transform(X_train[num_cols]), columns=num_cols)"
   ]
  },
  {
   "cell_type": "code",
   "execution_count": 60,
   "metadata": {},
   "outputs": [],
   "source": [
    "preprocessor = ColumnTransformer(transformers = [\n",
    "    ('num_transformer', num_transformer, num_cols),\n",
    "    ('cat_transformer', cat_transformer, cat_cols)\n",
    "], remainder='drop')"
   ]
  },
  {
   "cell_type": "code",
   "execution_count": 61,
   "metadata": {},
   "outputs": [
    {
     "data": {
      "text/plain": [
       "ColumnTransformer(transformers=[('num_transformer',\n",
       "                                 Pipeline(steps=[('imputer',\n",
       "                                                  SimpleImputer(strategy='median')),\n",
       "                                                 ('scaler', StandardScaler())]),\n",
       "                                 ['Age', 'RoomService', 'FoodCourt',\n",
       "                                  'ShoppingMall', 'Spa', 'VRDeck']),\n",
       "                                ('cat_transformer',\n",
       "                                 Pipeline(steps=[('impute',\n",
       "                                                  SimpleImputer(strategy='most_frequent')),\n",
       "                                                 ('ohe',\n",
       "                                                  OneHotEncoder(sparse=False))]),\n",
       "                                 ['HomePlanet', 'CryoSleep', 'Destination',\n",
       "                                  'VIP'])])"
      ]
     },
     "execution_count": 61,
     "metadata": {},
     "output_type": "execute_result"
    }
   ],
   "source": [
    "preprocessor.fit(X_train)"
   ]
  },
  {
   "cell_type": "code",
   "execution_count": 62,
   "metadata": {},
   "outputs": [
    {
     "data": {
      "text/html": [
       "<style>#sk-e6e0e33c-3c33-4d98-b60f-72e34fc0c7ad {color: black;background-color: white;}#sk-e6e0e33c-3c33-4d98-b60f-72e34fc0c7ad pre{padding: 0;}#sk-e6e0e33c-3c33-4d98-b60f-72e34fc0c7ad div.sk-toggleable {background-color: white;}#sk-e6e0e33c-3c33-4d98-b60f-72e34fc0c7ad label.sk-toggleable__label {cursor: pointer;display: block;width: 100%;margin-bottom: 0;padding: 0.2em 0.3em;box-sizing: border-box;text-align: center;}#sk-e6e0e33c-3c33-4d98-b60f-72e34fc0c7ad div.sk-toggleable__content {max-height: 0;max-width: 0;overflow: hidden;text-align: left;background-color: #f0f8ff;}#sk-e6e0e33c-3c33-4d98-b60f-72e34fc0c7ad div.sk-toggleable__content pre {margin: 0.2em;color: black;border-radius: 0.25em;background-color: #f0f8ff;}#sk-e6e0e33c-3c33-4d98-b60f-72e34fc0c7ad input.sk-toggleable__control:checked~div.sk-toggleable__content {max-height: 200px;max-width: 100%;overflow: auto;}#sk-e6e0e33c-3c33-4d98-b60f-72e34fc0c7ad div.sk-estimator input.sk-toggleable__control:checked~label.sk-toggleable__label {background-color: #d4ebff;}#sk-e6e0e33c-3c33-4d98-b60f-72e34fc0c7ad div.sk-label input.sk-toggleable__control:checked~label.sk-toggleable__label {background-color: #d4ebff;}#sk-e6e0e33c-3c33-4d98-b60f-72e34fc0c7ad input.sk-hidden--visually {border: 0;clip: rect(1px 1px 1px 1px);clip: rect(1px, 1px, 1px, 1px);height: 1px;margin: -1px;overflow: hidden;padding: 0;position: absolute;width: 1px;}#sk-e6e0e33c-3c33-4d98-b60f-72e34fc0c7ad div.sk-estimator {font-family: monospace;background-color: #f0f8ff;margin: 0.25em 0.25em;border: 1px dotted black;border-radius: 0.25em;box-sizing: border-box;}#sk-e6e0e33c-3c33-4d98-b60f-72e34fc0c7ad div.sk-estimator:hover {background-color: #d4ebff;}#sk-e6e0e33c-3c33-4d98-b60f-72e34fc0c7ad div.sk-parallel-item::after {content: \"\";width: 100%;border-bottom: 1px solid gray;flex-grow: 1;}#sk-e6e0e33c-3c33-4d98-b60f-72e34fc0c7ad div.sk-label:hover label.sk-toggleable__label {background-color: #d4ebff;}#sk-e6e0e33c-3c33-4d98-b60f-72e34fc0c7ad div.sk-serial::before {content: \"\";position: absolute;border-left: 1px solid gray;box-sizing: border-box;top: 2em;bottom: 0;left: 50%;}#sk-e6e0e33c-3c33-4d98-b60f-72e34fc0c7ad div.sk-serial {display: flex;flex-direction: column;align-items: center;background-color: white;}#sk-e6e0e33c-3c33-4d98-b60f-72e34fc0c7ad div.sk-item {z-index: 1;}#sk-e6e0e33c-3c33-4d98-b60f-72e34fc0c7ad div.sk-parallel {display: flex;align-items: stretch;justify-content: center;background-color: white;}#sk-e6e0e33c-3c33-4d98-b60f-72e34fc0c7ad div.sk-parallel-item {display: flex;flex-direction: column;position: relative;background-color: white;}#sk-e6e0e33c-3c33-4d98-b60f-72e34fc0c7ad div.sk-parallel-item:first-child::after {align-self: flex-end;width: 50%;}#sk-e6e0e33c-3c33-4d98-b60f-72e34fc0c7ad div.sk-parallel-item:last-child::after {align-self: flex-start;width: 50%;}#sk-e6e0e33c-3c33-4d98-b60f-72e34fc0c7ad div.sk-parallel-item:only-child::after {width: 0;}#sk-e6e0e33c-3c33-4d98-b60f-72e34fc0c7ad div.sk-dashed-wrapped {border: 1px dashed gray;margin: 0.2em;box-sizing: border-box;padding-bottom: 0.1em;background-color: white;position: relative;}#sk-e6e0e33c-3c33-4d98-b60f-72e34fc0c7ad div.sk-label label {font-family: monospace;font-weight: bold;background-color: white;display: inline-block;line-height: 1.2em;}#sk-e6e0e33c-3c33-4d98-b60f-72e34fc0c7ad div.sk-label-container {position: relative;z-index: 2;text-align: center;}#sk-e6e0e33c-3c33-4d98-b60f-72e34fc0c7ad div.sk-container {display: inline-block;position: relative;}</style><div id=\"sk-e6e0e33c-3c33-4d98-b60f-72e34fc0c7ad\" class\"sk-top-container\"><div class=\"sk-container\"><div class=\"sk-item sk-dashed-wrapped\"><div class=\"sk-label-container\"><div class=\"sk-label sk-toggleable\"><input class=\"sk-toggleable__control sk-hidden--visually\" id=\"b752e9f4-6169-44d3-86a6-7302826e832a\" type=\"checkbox\" ><label class=\"sk-toggleable__label\" for=\"b752e9f4-6169-44d3-86a6-7302826e832a\">ColumnTransformer</label><div class=\"sk-toggleable__content\"><pre>ColumnTransformer(transformers=[('num_transformer',\n",
       "                                 Pipeline(steps=[('imputer',\n",
       "                                                  SimpleImputer(strategy='median')),\n",
       "                                                 ('scaler', StandardScaler())]),\n",
       "                                 ['Age', 'RoomService', 'FoodCourt',\n",
       "                                  'ShoppingMall', 'Spa', 'VRDeck']),\n",
       "                                ('cat_transformer',\n",
       "                                 Pipeline(steps=[('impute',\n",
       "                                                  SimpleImputer(strategy='most_frequent')),\n",
       "                                                 ('ohe',\n",
       "                                                  OneHotEncoder(sparse=False))]),\n",
       "                                 ['HomePlanet', 'CryoSleep', 'Destination',\n",
       "                                  'VIP'])])</pre></div></div></div><div class=\"sk-parallel\"><div class=\"sk-parallel-item\"><div class=\"sk-item\"><div class=\"sk-label-container\"><div class=\"sk-label sk-toggleable\"><input class=\"sk-toggleable__control sk-hidden--visually\" id=\"b3ecbc6e-4664-45a9-b0ac-67ac12726cb5\" type=\"checkbox\" ><label class=\"sk-toggleable__label\" for=\"b3ecbc6e-4664-45a9-b0ac-67ac12726cb5\">num_transformer</label><div class=\"sk-toggleable__content\"><pre>['Age', 'RoomService', 'FoodCourt', 'ShoppingMall', 'Spa', 'VRDeck']</pre></div></div></div><div class=\"sk-serial\"><div class=\"sk-item\"><div class=\"sk-serial\"><div class=\"sk-item\"><div class=\"sk-estimator sk-toggleable\"><input class=\"sk-toggleable__control sk-hidden--visually\" id=\"8a3ff29a-631a-48c4-84dd-253498222352\" type=\"checkbox\" ><label class=\"sk-toggleable__label\" for=\"8a3ff29a-631a-48c4-84dd-253498222352\">SimpleImputer</label><div class=\"sk-toggleable__content\"><pre>SimpleImputer(strategy='median')</pre></div></div></div><div class=\"sk-item\"><div class=\"sk-estimator sk-toggleable\"><input class=\"sk-toggleable__control sk-hidden--visually\" id=\"ff5a8384-5497-4afb-af2b-06b652055c3e\" type=\"checkbox\" ><label class=\"sk-toggleable__label\" for=\"ff5a8384-5497-4afb-af2b-06b652055c3e\">StandardScaler</label><div class=\"sk-toggleable__content\"><pre>StandardScaler()</pre></div></div></div></div></div></div></div></div><div class=\"sk-parallel-item\"><div class=\"sk-item\"><div class=\"sk-label-container\"><div class=\"sk-label sk-toggleable\"><input class=\"sk-toggleable__control sk-hidden--visually\" id=\"12aa039d-6520-47bf-9980-37675b435419\" type=\"checkbox\" ><label class=\"sk-toggleable__label\" for=\"12aa039d-6520-47bf-9980-37675b435419\">cat_transformer</label><div class=\"sk-toggleable__content\"><pre>['HomePlanet', 'CryoSleep', 'Destination', 'VIP']</pre></div></div></div><div class=\"sk-serial\"><div class=\"sk-item\"><div class=\"sk-serial\"><div class=\"sk-item\"><div class=\"sk-estimator sk-toggleable\"><input class=\"sk-toggleable__control sk-hidden--visually\" id=\"959d7c0a-7711-45eb-a0e6-74bea76a9002\" type=\"checkbox\" ><label class=\"sk-toggleable__label\" for=\"959d7c0a-7711-45eb-a0e6-74bea76a9002\">SimpleImputer</label><div class=\"sk-toggleable__content\"><pre>SimpleImputer(strategy='most_frequent')</pre></div></div></div><div class=\"sk-item\"><div class=\"sk-estimator sk-toggleable\"><input class=\"sk-toggleable__control sk-hidden--visually\" id=\"98ff8947-a856-49f2-8325-fb1173679563\" type=\"checkbox\" ><label class=\"sk-toggleable__label\" for=\"98ff8947-a856-49f2-8325-fb1173679563\">OneHotEncoder</label><div class=\"sk-toggleable__content\"><pre>OneHotEncoder(sparse=False)</pre></div></div></div></div></div></div></div></div></div></div></div></div>"
      ],
      "text/plain": [
       "ColumnTransformer(transformers=[('num_transformer',\n",
       "                                 Pipeline(steps=[('imputer',\n",
       "                                                  SimpleImputer(strategy='median')),\n",
       "                                                 ('scaler', StandardScaler())]),\n",
       "                                 ['Age', 'RoomService', 'FoodCourt',\n",
       "                                  'ShoppingMall', 'Spa', 'VRDeck']),\n",
       "                                ('cat_transformer',\n",
       "                                 Pipeline(steps=[('impute',\n",
       "                                                  SimpleImputer(strategy='most_frequent')),\n",
       "                                                 ('ohe',\n",
       "                                                  OneHotEncoder(sparse=False))]),\n",
       "                                 ['HomePlanet', 'CryoSleep', 'Destination',\n",
       "                                  'VIP'])])"
      ]
     },
     "execution_count": 62,
     "metadata": {},
     "output_type": "execute_result"
    }
   ],
   "source": [
    "set_config(display='diagram')\n",
    "preprocessor"
   ]
  },
  {
   "cell_type": "code",
   "execution_count": 64,
   "metadata": {},
   "outputs": [
    {
     "data": {
      "text/plain": [
       "0     0\n",
       "1     0\n",
       "2     0\n",
       "3     0\n",
       "4     0\n",
       "5     0\n",
       "6     0\n",
       "7     0\n",
       "8     0\n",
       "9     0\n",
       "10    0\n",
       "11    0\n",
       "12    0\n",
       "13    0\n",
       "14    0\n",
       "15    0\n",
       "dtype: int64"
      ]
     },
     "execution_count": 64,
     "metadata": {},
     "output_type": "execute_result"
    }
   ],
   "source": [
    "pd.DataFrame(preprocessor.transform(X_train)).isna().sum()"
   ]
  },
  {
   "cell_type": "code",
   "execution_count": 65,
   "metadata": {},
   "outputs": [],
   "source": [
    "# Embed preprocessor and estimator in final pipeline\n",
    "full_pipeline = Pipeline(steps = [\n",
    "    ('preprocess', preprocessor),\n",
    "    ('estimator', LogisticRegression())\n",
    "])"
   ]
  },
  {
   "cell_type": "code",
   "execution_count": 66,
   "metadata": {},
   "outputs": [
    {
     "data": {
      "text/html": [
       "<style>#sk-60b50c7e-63dd-4a61-b7d5-6c368bf7d5eb {color: black;background-color: white;}#sk-60b50c7e-63dd-4a61-b7d5-6c368bf7d5eb pre{padding: 0;}#sk-60b50c7e-63dd-4a61-b7d5-6c368bf7d5eb div.sk-toggleable {background-color: white;}#sk-60b50c7e-63dd-4a61-b7d5-6c368bf7d5eb label.sk-toggleable__label {cursor: pointer;display: block;width: 100%;margin-bottom: 0;padding: 0.2em 0.3em;box-sizing: border-box;text-align: center;}#sk-60b50c7e-63dd-4a61-b7d5-6c368bf7d5eb div.sk-toggleable__content {max-height: 0;max-width: 0;overflow: hidden;text-align: left;background-color: #f0f8ff;}#sk-60b50c7e-63dd-4a61-b7d5-6c368bf7d5eb div.sk-toggleable__content pre {margin: 0.2em;color: black;border-radius: 0.25em;background-color: #f0f8ff;}#sk-60b50c7e-63dd-4a61-b7d5-6c368bf7d5eb input.sk-toggleable__control:checked~div.sk-toggleable__content {max-height: 200px;max-width: 100%;overflow: auto;}#sk-60b50c7e-63dd-4a61-b7d5-6c368bf7d5eb div.sk-estimator input.sk-toggleable__control:checked~label.sk-toggleable__label {background-color: #d4ebff;}#sk-60b50c7e-63dd-4a61-b7d5-6c368bf7d5eb div.sk-label input.sk-toggleable__control:checked~label.sk-toggleable__label {background-color: #d4ebff;}#sk-60b50c7e-63dd-4a61-b7d5-6c368bf7d5eb input.sk-hidden--visually {border: 0;clip: rect(1px 1px 1px 1px);clip: rect(1px, 1px, 1px, 1px);height: 1px;margin: -1px;overflow: hidden;padding: 0;position: absolute;width: 1px;}#sk-60b50c7e-63dd-4a61-b7d5-6c368bf7d5eb div.sk-estimator {font-family: monospace;background-color: #f0f8ff;margin: 0.25em 0.25em;border: 1px dotted black;border-radius: 0.25em;box-sizing: border-box;}#sk-60b50c7e-63dd-4a61-b7d5-6c368bf7d5eb div.sk-estimator:hover {background-color: #d4ebff;}#sk-60b50c7e-63dd-4a61-b7d5-6c368bf7d5eb div.sk-parallel-item::after {content: \"\";width: 100%;border-bottom: 1px solid gray;flex-grow: 1;}#sk-60b50c7e-63dd-4a61-b7d5-6c368bf7d5eb div.sk-label:hover label.sk-toggleable__label {background-color: #d4ebff;}#sk-60b50c7e-63dd-4a61-b7d5-6c368bf7d5eb div.sk-serial::before {content: \"\";position: absolute;border-left: 1px solid gray;box-sizing: border-box;top: 2em;bottom: 0;left: 50%;}#sk-60b50c7e-63dd-4a61-b7d5-6c368bf7d5eb div.sk-serial {display: flex;flex-direction: column;align-items: center;background-color: white;}#sk-60b50c7e-63dd-4a61-b7d5-6c368bf7d5eb div.sk-item {z-index: 1;}#sk-60b50c7e-63dd-4a61-b7d5-6c368bf7d5eb div.sk-parallel {display: flex;align-items: stretch;justify-content: center;background-color: white;}#sk-60b50c7e-63dd-4a61-b7d5-6c368bf7d5eb div.sk-parallel-item {display: flex;flex-direction: column;position: relative;background-color: white;}#sk-60b50c7e-63dd-4a61-b7d5-6c368bf7d5eb div.sk-parallel-item:first-child::after {align-self: flex-end;width: 50%;}#sk-60b50c7e-63dd-4a61-b7d5-6c368bf7d5eb div.sk-parallel-item:last-child::after {align-self: flex-start;width: 50%;}#sk-60b50c7e-63dd-4a61-b7d5-6c368bf7d5eb div.sk-parallel-item:only-child::after {width: 0;}#sk-60b50c7e-63dd-4a61-b7d5-6c368bf7d5eb div.sk-dashed-wrapped {border: 1px dashed gray;margin: 0.2em;box-sizing: border-box;padding-bottom: 0.1em;background-color: white;position: relative;}#sk-60b50c7e-63dd-4a61-b7d5-6c368bf7d5eb div.sk-label label {font-family: monospace;font-weight: bold;background-color: white;display: inline-block;line-height: 1.2em;}#sk-60b50c7e-63dd-4a61-b7d5-6c368bf7d5eb div.sk-label-container {position: relative;z-index: 2;text-align: center;}#sk-60b50c7e-63dd-4a61-b7d5-6c368bf7d5eb div.sk-container {display: inline-block;position: relative;}</style><div id=\"sk-60b50c7e-63dd-4a61-b7d5-6c368bf7d5eb\" class\"sk-top-container\"><div class=\"sk-container\"><div class=\"sk-item sk-dashed-wrapped\"><div class=\"sk-label-container\"><div class=\"sk-label sk-toggleable\"><input class=\"sk-toggleable__control sk-hidden--visually\" id=\"089a8c23-71a9-4c48-a2f4-f68363e93e33\" type=\"checkbox\" ><label class=\"sk-toggleable__label\" for=\"089a8c23-71a9-4c48-a2f4-f68363e93e33\">Pipeline</label><div class=\"sk-toggleable__content\"><pre>Pipeline(steps=[('preprocess',\n",
       "                 ColumnTransformer(transformers=[('num_transformer',\n",
       "                                                  Pipeline(steps=[('imputer',\n",
       "                                                                   SimpleImputer(strategy='median')),\n",
       "                                                                  ('scaler',\n",
       "                                                                   StandardScaler())]),\n",
       "                                                  ['Age', 'RoomService',\n",
       "                                                   'FoodCourt', 'ShoppingMall',\n",
       "                                                   'Spa', 'VRDeck']),\n",
       "                                                 ('cat_transformer',\n",
       "                                                  Pipeline(steps=[('impute',\n",
       "                                                                   SimpleImputer(strategy='most_frequent')),\n",
       "                                                                  ('ohe',\n",
       "                                                                   OneHotEncoder(sparse=False))]),\n",
       "                                                  ['HomePlanet', 'CryoSleep',\n",
       "                                                   'Destination', 'VIP'])])),\n",
       "                ('estimator', LogisticRegression())])</pre></div></div></div><div class=\"sk-serial\"><div class=\"sk-item sk-dashed-wrapped\"><div class=\"sk-label-container\"><div class=\"sk-label sk-toggleable\"><input class=\"sk-toggleable__control sk-hidden--visually\" id=\"c35321e0-d6f5-4051-b053-86f5223afc38\" type=\"checkbox\" ><label class=\"sk-toggleable__label\" for=\"c35321e0-d6f5-4051-b053-86f5223afc38\">preprocess: ColumnTransformer</label><div class=\"sk-toggleable__content\"><pre>ColumnTransformer(transformers=[('num_transformer',\n",
       "                                 Pipeline(steps=[('imputer',\n",
       "                                                  SimpleImputer(strategy='median')),\n",
       "                                                 ('scaler', StandardScaler())]),\n",
       "                                 ['Age', 'RoomService', 'FoodCourt',\n",
       "                                  'ShoppingMall', 'Spa', 'VRDeck']),\n",
       "                                ('cat_transformer',\n",
       "                                 Pipeline(steps=[('impute',\n",
       "                                                  SimpleImputer(strategy='most_frequent')),\n",
       "                                                 ('ohe',\n",
       "                                                  OneHotEncoder(sparse=False))]),\n",
       "                                 ['HomePlanet', 'CryoSleep', 'Destination',\n",
       "                                  'VIP'])])</pre></div></div></div><div class=\"sk-parallel\"><div class=\"sk-parallel-item\"><div class=\"sk-item\"><div class=\"sk-label-container\"><div class=\"sk-label sk-toggleable\"><input class=\"sk-toggleable__control sk-hidden--visually\" id=\"12356da0-6838-4e0d-864d-61a4c24fa884\" type=\"checkbox\" ><label class=\"sk-toggleable__label\" for=\"12356da0-6838-4e0d-864d-61a4c24fa884\">num_transformer</label><div class=\"sk-toggleable__content\"><pre>['Age', 'RoomService', 'FoodCourt', 'ShoppingMall', 'Spa', 'VRDeck']</pre></div></div></div><div class=\"sk-serial\"><div class=\"sk-item\"><div class=\"sk-serial\"><div class=\"sk-item\"><div class=\"sk-estimator sk-toggleable\"><input class=\"sk-toggleable__control sk-hidden--visually\" id=\"d5c58c08-5063-40bd-87ef-dcd244e73c3f\" type=\"checkbox\" ><label class=\"sk-toggleable__label\" for=\"d5c58c08-5063-40bd-87ef-dcd244e73c3f\">SimpleImputer</label><div class=\"sk-toggleable__content\"><pre>SimpleImputer(strategy='median')</pre></div></div></div><div class=\"sk-item\"><div class=\"sk-estimator sk-toggleable\"><input class=\"sk-toggleable__control sk-hidden--visually\" id=\"f0e411d5-ab33-44a8-96e9-05f016108b55\" type=\"checkbox\" ><label class=\"sk-toggleable__label\" for=\"f0e411d5-ab33-44a8-96e9-05f016108b55\">StandardScaler</label><div class=\"sk-toggleable__content\"><pre>StandardScaler()</pre></div></div></div></div></div></div></div></div><div class=\"sk-parallel-item\"><div class=\"sk-item\"><div class=\"sk-label-container\"><div class=\"sk-label sk-toggleable\"><input class=\"sk-toggleable__control sk-hidden--visually\" id=\"214d01bc-92d3-4dcc-85b2-f7868fa3bfe8\" type=\"checkbox\" ><label class=\"sk-toggleable__label\" for=\"214d01bc-92d3-4dcc-85b2-f7868fa3bfe8\">cat_transformer</label><div class=\"sk-toggleable__content\"><pre>['HomePlanet', 'CryoSleep', 'Destination', 'VIP']</pre></div></div></div><div class=\"sk-serial\"><div class=\"sk-item\"><div class=\"sk-serial\"><div class=\"sk-item\"><div class=\"sk-estimator sk-toggleable\"><input class=\"sk-toggleable__control sk-hidden--visually\" id=\"c39cfeae-d21f-4b20-921c-636ceedec0c6\" type=\"checkbox\" ><label class=\"sk-toggleable__label\" for=\"c39cfeae-d21f-4b20-921c-636ceedec0c6\">SimpleImputer</label><div class=\"sk-toggleable__content\"><pre>SimpleImputer(strategy='most_frequent')</pre></div></div></div><div class=\"sk-item\"><div class=\"sk-estimator sk-toggleable\"><input class=\"sk-toggleable__control sk-hidden--visually\" id=\"12f1dd15-9396-46ce-9b38-6d124db0d345\" type=\"checkbox\" ><label class=\"sk-toggleable__label\" for=\"12f1dd15-9396-46ce-9b38-6d124db0d345\">OneHotEncoder</label><div class=\"sk-toggleable__content\"><pre>OneHotEncoder(sparse=False)</pre></div></div></div></div></div></div></div></div></div></div><div class=\"sk-item\"><div class=\"sk-estimator sk-toggleable\"><input class=\"sk-toggleable__control sk-hidden--visually\" id=\"06f73ae1-a313-43eb-970a-58e6d1b907c6\" type=\"checkbox\" ><label class=\"sk-toggleable__label\" for=\"06f73ae1-a313-43eb-970a-58e6d1b907c6\">LogisticRegression</label><div class=\"sk-toggleable__content\"><pre>LogisticRegression()</pre></div></div></div></div></div></div></div>"
      ],
      "text/plain": [
       "Pipeline(steps=[('preprocess',\n",
       "                 ColumnTransformer(transformers=[('num_transformer',\n",
       "                                                  Pipeline(steps=[('imputer',\n",
       "                                                                   SimpleImputer(strategy='median')),\n",
       "                                                                  ('scaler',\n",
       "                                                                   StandardScaler())]),\n",
       "                                                  ['Age', 'RoomService',\n",
       "                                                   'FoodCourt', 'ShoppingMall',\n",
       "                                                   'Spa', 'VRDeck']),\n",
       "                                                 ('cat_transformer',\n",
       "                                                  Pipeline(steps=[('impute',\n",
       "                                                                   SimpleImputer(strategy='most_frequent')),\n",
       "                                                                  ('ohe',\n",
       "                                                                   OneHotEncoder(sparse=False))]),\n",
       "                                                  ['HomePlanet', 'CryoSleep',\n",
       "                                                   'Destination', 'VIP'])])),\n",
       "                ('estimator', LogisticRegression())])"
      ]
     },
     "execution_count": 66,
     "metadata": {},
     "output_type": "execute_result"
    }
   ],
   "source": [
    "full_pipeline.fit(X_train, y_train)"
   ]
  },
  {
   "cell_type": "code",
   "execution_count": 67,
   "metadata": {},
   "outputs": [],
   "source": [
    "train_preds = full_pipeline.predict(X_train)"
   ]
  },
  {
   "cell_type": "code",
   "execution_count": 68,
   "metadata": {},
   "outputs": [
    {
     "data": {
      "text/plain": [
       "0.7908106088905491"
      ]
     },
     "execution_count": 68,
     "metadata": {},
     "output_type": "execute_result"
    }
   ],
   "source": [
    "accuracy_score(y_train, train_preds)"
   ]
  },
  {
   "cell_type": "code",
   "execution_count": 69,
   "metadata": {},
   "outputs": [
    {
     "data": {
      "text/plain": [
       "<sklearn.metrics._plot.confusion_matrix.ConfusionMatrixDisplay at 0x7ff462f28a00>"
      ]
     },
     "execution_count": 69,
     "metadata": {},
     "output_type": "execute_result"
    },
    {
     "data": {
      "image/png": "[encoded data removed]",
      "text/plain": [
       "<Figure size 432x288 with 2 Axes>"
      ]
     },
     "metadata": {
      "needs_background": "light"
     },
     "output_type": "display_data"
    }
   ],
   "source": [
    "plot_confusion_matrix(full_pipeline, X_train, y_train)"
   ]
  },
  {
   "cell_type": "code",
   "execution_count": 70,
   "metadata": {},
   "outputs": [],
   "source": [
    "test_preds = full_pipeline.predict(X_test)"
   ]
  },
  {
   "cell_type": "code",
   "execution_count": 71,
   "metadata": {},
   "outputs": [
    {
     "data": {
      "text/plain": [
       "0.7976101568334578"
      ]
     },
     "execution_count": 71,
     "metadata": {},
     "output_type": "execute_result"
    }
   ],
   "source": [
    "accuracy_score(y_test, test_preds)"
   ]
  },
  {
   "cell_type": "code",
   "execution_count": 72,
   "metadata": {},
   "outputs": [
    {
     "data": {
      "text/plain": [
       "array([0.80392157, 0.76937442, 0.79365079, 0.79831933, 0.78317757])"
      ]
     },
     "execution_count": 72,
     "metadata": {},
     "output_type": "execute_result"
    }
   ],
   "source": [
    "cross_val_score(full_pipeline, X_train, y_train, cv=5)"
   ]
  },
  {
   "cell_type": "markdown",
   "metadata": {},
   "source": [
    "The pipeline is visualized above in a text format. You can display pipeline in a more interactive format using [set_config](https://scikit-learn.org/stable/auto_examples/miscellaneous/plot_pipeline_display.html#sphx-glr-auto-examples-miscellaneous-plot-pipeline-display-py)"
   ]
  },
  {
   "cell_type": "markdown",
   "metadata": {},
   "source": [
    "### Iterate\n",
    "\n",
    "Having the steps predefined and modularized makes it easy to experiment and fine-tune each part of the process!"
   ]
  },
  {
   "cell_type": "code",
   "execution_count": 73,
   "metadata": {},
   "outputs": [],
   "source": [
    "rfc_pipe = Pipeline(steps = [\n",
    "    ('preprocess', preprocessor),\n",
    "    ('rfc', RandomForestClassifier())\n",
    "])"
   ]
  },
  {
   "cell_type": "code",
   "execution_count": 74,
   "metadata": {},
   "outputs": [
    {
     "data": {
      "text/html": [
       "<style>#sk-0281fedb-e27f-4437-b2f2-386a85546f15 {color: black;background-color: white;}#sk-0281fedb-e27f-4437-b2f2-386a85546f15 pre{padding: 0;}#sk-0281fedb-e27f-4437-b2f2-386a85546f15 div.sk-toggleable {background-color: white;}#sk-0281fedb-e27f-4437-b2f2-386a85546f15 label.sk-toggleable__label {cursor: pointer;display: block;width: 100%;margin-bottom: 0;padding: 0.2em 0.3em;box-sizing: border-box;text-align: center;}#sk-0281fedb-e27f-4437-b2f2-386a85546f15 div.sk-toggleable__content {max-height: 0;max-width: 0;overflow: hidden;text-align: left;background-color: #f0f8ff;}#sk-0281fedb-e27f-4437-b2f2-386a85546f15 div.sk-toggleable__content pre {margin: 0.2em;color: black;border-radius: 0.25em;background-color: #f0f8ff;}#sk-0281fedb-e27f-4437-b2f2-386a85546f15 input.sk-toggleable__control:checked~div.sk-toggleable__content {max-height: 200px;max-width: 100%;overflow: auto;}#sk-0281fedb-e27f-4437-b2f2-386a85546f15 div.sk-estimator input.sk-toggleable__control:checked~label.sk-toggleable__label {background-color: #d4ebff;}#sk-0281fedb-e27f-4437-b2f2-386a85546f15 div.sk-label input.sk-toggleable__control:checked~label.sk-toggleable__label {background-color: #d4ebff;}#sk-0281fedb-e27f-4437-b2f2-386a85546f15 input.sk-hidden--visually {border: 0;clip: rect(1px 1px 1px 1px);clip: rect(1px, 1px, 1px, 1px);height: 1px;margin: -1px;overflow: hidden;padding: 0;position: absolute;width: 1px;}#sk-0281fedb-e27f-4437-b2f2-386a85546f15 div.sk-estimator {font-family: monospace;background-color: #f0f8ff;margin: 0.25em 0.25em;border: 1px dotted black;border-radius: 0.25em;box-sizing: border-box;}#sk-0281fedb-e27f-4437-b2f2-386a85546f15 div.sk-estimator:hover {background-color: #d4ebff;}#sk-0281fedb-e27f-4437-b2f2-386a85546f15 div.sk-parallel-item::after {content: \"\";width: 100%;border-bottom: 1px solid gray;flex-grow: 1;}#sk-0281fedb-e27f-4437-b2f2-386a85546f15 div.sk-label:hover label.sk-toggleable__label {background-color: #d4ebff;}#sk-0281fedb-e27f-4437-b2f2-386a85546f15 div.sk-serial::before {content: \"\";position: absolute;border-left: 1px solid gray;box-sizing: border-box;top: 2em;bottom: 0;left: 50%;}#sk-0281fedb-e27f-4437-b2f2-386a85546f15 div.sk-serial {display: flex;flex-direction: column;align-items: center;background-color: white;}#sk-0281fedb-e27f-4437-b2f2-386a85546f15 div.sk-item {z-index: 1;}#sk-0281fedb-e27f-4437-b2f2-386a85546f15 div.sk-parallel {display: flex;align-items: stretch;justify-content: center;background-color: white;}#sk-0281fedb-e27f-4437-b2f2-386a85546f15 div.sk-parallel-item {display: flex;flex-direction: column;position: relative;background-color: white;}#sk-0281fedb-e27f-4437-b2f2-386a85546f15 div.sk-parallel-item:first-child::after {align-self: flex-end;width: 50%;}#sk-0281fedb-e27f-4437-b2f2-386a85546f15 div.sk-parallel-item:last-child::after {align-self: flex-start;width: 50%;}#sk-0281fedb-e27f-4437-b2f2-386a85546f15 div.sk-parallel-item:only-child::after {width: 0;}#sk-0281fedb-e27f-4437-b2f2-386a85546f15 div.sk-dashed-wrapped {border: 1px dashed gray;margin: 0.2em;box-sizing: border-box;padding-bottom: 0.1em;background-color: white;position: relative;}#sk-0281fedb-e27f-4437-b2f2-386a85546f15 div.sk-label label {font-family: monospace;font-weight: bold;background-color: white;display: inline-block;line-height: 1.2em;}#sk-0281fedb-e27f-4437-b2f2-386a85546f15 div.sk-label-container {position: relative;z-index: 2;text-align: center;}#sk-0281fedb-e27f-4437-b2f2-386a85546f15 div.sk-container {display: inline-block;position: relative;}</style><div id=\"sk-0281fedb-e27f-4437-b2f2-386a85546f15\" class\"sk-top-container\"><div class=\"sk-container\"><div class=\"sk-item sk-dashed-wrapped\"><div class=\"sk-label-container\"><div class=\"sk-label sk-toggleable\"><input class=\"sk-toggleable__control sk-hidden--visually\" id=\"134f3eaa-86eb-4f52-bae9-ae34b4aed686\" type=\"checkbox\" ><label class=\"sk-toggleable__label\" for=\"134f3eaa-86eb-4f52-bae9-ae34b4aed686\">Pipeline</label><div class=\"sk-toggleable__content\"><pre>Pipeline(steps=[('preprocess',\n",
       "                 ColumnTransformer(transformers=[('num_transformer',\n",
       "                                                  Pipeline(steps=[('imputer',\n",
       "                                                                   SimpleImputer(strategy='median')),\n",
       "                                                                  ('scaler',\n",
       "                                                                   StandardScaler())]),\n",
       "                                                  ['Age', 'RoomService',\n",
       "                                                   'FoodCourt', 'ShoppingMall',\n",
       "                                                   'Spa', 'VRDeck']),\n",
       "                                                 ('cat_transformer',\n",
       "                                                  Pipeline(steps=[('impute',\n",
       "                                                                   SimpleImputer(strategy='most_frequent')),\n",
       "                                                                  ('ohe',\n",
       "                                                                   OneHotEncoder(sparse=False))]),\n",
       "                                                  ['HomePlanet', 'CryoSleep',\n",
       "                                                   'Destination', 'VIP'])])),\n",
       "                ('rfc', RandomForestClassifier())])</pre></div></div></div><div class=\"sk-serial\"><div class=\"sk-item sk-dashed-wrapped\"><div class=\"sk-label-container\"><div class=\"sk-label sk-toggleable\"><input class=\"sk-toggleable__control sk-hidden--visually\" id=\"90da1995-3bed-4e08-bf0e-00ca9568feaa\" type=\"checkbox\" ><label class=\"sk-toggleable__label\" for=\"90da1995-3bed-4e08-bf0e-00ca9568feaa\">preprocess: ColumnTransformer</label><div class=\"sk-toggleable__content\"><pre>ColumnTransformer(transformers=[('num_transformer',\n",
       "                                 Pipeline(steps=[('imputer',\n",
       "                                                  SimpleImputer(strategy='median')),\n",
       "                                                 ('scaler', StandardScaler())]),\n",
       "                                 ['Age', 'RoomService', 'FoodCourt',\n",
       "                                  'ShoppingMall', 'Spa', 'VRDeck']),\n",
       "                                ('cat_transformer',\n",
       "                                 Pipeline(steps=[('impute',\n",
       "                                                  SimpleImputer(strategy='most_frequent')),\n",
       "                                                 ('ohe',\n",
       "                                                  OneHotEncoder(sparse=False))]),\n",
       "                                 ['HomePlanet', 'CryoSleep', 'Destination',\n",
       "                                  'VIP'])])</pre></div></div></div><div class=\"sk-parallel\"><div class=\"sk-parallel-item\"><div class=\"sk-item\"><div class=\"sk-label-container\"><div class=\"sk-label sk-toggleable\"><input class=\"sk-toggleable__control sk-hidden--visually\" id=\"2d7cb9d4-857f-45b3-bdbc-c8c0a54c2cc5\" type=\"checkbox\" ><label class=\"sk-toggleable__label\" for=\"2d7cb9d4-857f-45b3-bdbc-c8c0a54c2cc5\">num_transformer</label><div class=\"sk-toggleable__content\"><pre>['Age', 'RoomService', 'FoodCourt', 'ShoppingMall', 'Spa', 'VRDeck']</pre></div></div></div><div class=\"sk-serial\"><div class=\"sk-item\"><div class=\"sk-serial\"><div class=\"sk-item\"><div class=\"sk-estimator sk-toggleable\"><input class=\"sk-toggleable__control sk-hidden--visually\" id=\"e03277ba-d4cf-49c3-84dd-f7959b860152\" type=\"checkbox\" ><label class=\"sk-toggleable__label\" for=\"e03277ba-d4cf-49c3-84dd-f7959b860152\">SimpleImputer</label><div class=\"sk-toggleable__content\"><pre>SimpleImputer(strategy='median')</pre></div></div></div><div class=\"sk-item\"><div class=\"sk-estimator sk-toggleable\"><input class=\"sk-toggleable__control sk-hidden--visually\" id=\"3978df27-286b-429e-b1d3-b2ea10a7935a\" type=\"checkbox\" ><label class=\"sk-toggleable__label\" for=\"3978df27-286b-429e-b1d3-b2ea10a7935a\">StandardScaler</label><div class=\"sk-toggleable__content\"><pre>StandardScaler()</pre></div></div></div></div></div></div></div></div><div class=\"sk-parallel-item\"><div class=\"sk-item\"><div class=\"sk-label-container\"><div class=\"sk-label sk-toggleable\"><input class=\"sk-toggleable__control sk-hidden--visually\" id=\"8d983300-12fb-4252-a7cf-c7c19fad342d\" type=\"checkbox\" ><label class=\"sk-toggleable__label\" for=\"8d983300-12fb-4252-a7cf-c7c19fad342d\">cat_transformer</label><div class=\"sk-toggleable__content\"><pre>['HomePlanet', 'CryoSleep', 'Destination', 'VIP']</pre></div></div></div><div class=\"sk-serial\"><div class=\"sk-item\"><div class=\"sk-serial\"><div class=\"sk-item\"><div class=\"sk-estimator sk-toggleable\"><input class=\"sk-toggleable__control sk-hidden--visually\" id=\"215c7de5-d0e7-4700-9b49-244b8be17da9\" type=\"checkbox\" ><label class=\"sk-toggleable__label\" for=\"215c7de5-d0e7-4700-9b49-244b8be17da9\">SimpleImputer</label><div class=\"sk-toggleable__content\"><pre>SimpleImputer(strategy='most_frequent')</pre></div></div></div><div class=\"sk-item\"><div class=\"sk-estimator sk-toggleable\"><input class=\"sk-toggleable__control sk-hidden--visually\" id=\"e383a2aa-125e-4a32-8ca5-c10a6023e118\" type=\"checkbox\" ><label class=\"sk-toggleable__label\" for=\"e383a2aa-125e-4a32-8ca5-c10a6023e118\">OneHotEncoder</label><div class=\"sk-toggleable__content\"><pre>OneHotEncoder(sparse=False)</pre></div></div></div></div></div></div></div></div></div></div><div class=\"sk-item\"><div class=\"sk-estimator sk-toggleable\"><input class=\"sk-toggleable__control sk-hidden--visually\" id=\"f9964b97-f49a-4331-a52d-15930c9a8785\" type=\"checkbox\" ><label class=\"sk-toggleable__label\" for=\"f9964b97-f49a-4331-a52d-15930c9a8785\">RandomForestClassifier</label><div class=\"sk-toggleable__content\"><pre>RandomForestClassifier()</pre></div></div></div></div></div></div></div>"
      ],
      "text/plain": [
       "Pipeline(steps=[('preprocess',\n",
       "                 ColumnTransformer(transformers=[('num_transformer',\n",
       "                                                  Pipeline(steps=[('imputer',\n",
       "                                                                   SimpleImputer(strategy='median')),\n",
       "                                                                  ('scaler',\n",
       "                                                                   StandardScaler())]),\n",
       "                                                  ['Age', 'RoomService',\n",
       "                                                   'FoodCourt', 'ShoppingMall',\n",
       "                                                   'Spa', 'VRDeck']),\n",
       "                                                 ('cat_transformer',\n",
       "                                                  Pipeline(steps=[('impute',\n",
       "                                                                   SimpleImputer(strategy='most_frequent')),\n",
       "                                                                  ('ohe',\n",
       "                                                                   OneHotEncoder(sparse=False))]),\n",
       "                                                  ['HomePlanet', 'CryoSleep',\n",
       "                                                   'Destination', 'VIP'])])),\n",
       "                ('rfc', RandomForestClassifier())])"
      ]
     },
     "execution_count": 74,
     "metadata": {},
     "output_type": "execute_result"
    }
   ],
   "source": [
    "rfc_pipe.fit(X_train, y_train)"
   ]
  },
  {
   "cell_type": "code",
   "execution_count": 76,
   "metadata": {},
   "outputs": [
    {
     "data": {
      "text/plain": [
       "0.9288382517743743"
      ]
     },
     "execution_count": 76,
     "metadata": {},
     "output_type": "execute_result"
    }
   ],
   "source": [
    "rfc_pipe.score(X_train, y_train)"
   ]
  },
  {
   "cell_type": "code",
   "execution_count": 77,
   "metadata": {},
   "outputs": [
    {
     "data": {
      "text/plain": [
       "0.7923823749066468"
      ]
     },
     "execution_count": 77,
     "metadata": {},
     "output_type": "execute_result"
    }
   ],
   "source": [
    "rfc_pipe.score(X_test, y_test)"
   ]
  },
  {
   "cell_type": "code",
   "execution_count": 82,
   "metadata": {},
   "outputs": [
    {
     "data": {
      "text/plain": [
       "Pipeline(steps=[('preprocess',\n",
       "                 ColumnTransformer(transformers=[('num_transformer',\n",
       "                                                  Pipeline(steps=[('imputer',\n",
       "                                                                   SimpleImputer(strategy='median')),\n",
       "                                                                  ('scaler',\n",
       "                                                                   StandardScaler())]),\n",
       "                                                  ['Age', 'RoomService',\n",
       "                                                   'FoodCourt', 'ShoppingMall',\n",
       "                                                   'Spa', 'VRDeck']),\n",
       "                                                 ('cat_transformer',\n",
       "                                                  Pipeline(steps=[('impute',\n",
       "                                                                   SimpleImputer(strategy='most_frequent')),\n",
       "                                                                  ('ohe',\n",
       "                                                                   OneHotEncoder(sparse=False))]),\n",
       "                                                  ['HomePlanet', 'CryoSleep',\n",
       "                                                   'Destination', 'VIP'])])),\n",
       "                ('rfc', RandomForestClassifier())])"
      ]
     },
     "execution_count": 82,
     "metadata": {},
     "output_type": "execute_result"
    }
   ],
   "source": [
    "set_config(display='text')\n",
    "rfc_pipe"
   ]
  },
  {
   "cell_type": "code",
   "execution_count": null,
   "metadata": {},
   "outputs": [],
   "source": []
  },
  {
   "cell_type": "code",
   "execution_count": null,
   "metadata": {},
   "outputs": [],
   "source": []
  },
  {
   "cell_type": "markdown",
   "metadata": {},
   "source": [
    "## Grid Search\n",
    "\n",
    "Using pipelines is almost exactly the same, we will just need to make a few adjustments to the parameter dictionary."
   ]
  },
  {
   "cell_type": "code",
   "execution_count": 95,
   "metadata": {},
   "outputs": [],
   "source": [
    "param_grid = {\n",
    "    'rfc__max_depth': [2, 8, 12, 20],\n",
    "    'rfc__min_samples_split': [2, 6]\n",
    "}"
   ]
  },
  {
   "cell_type": "code",
   "execution_count": 96,
   "metadata": {},
   "outputs": [],
   "source": [
    "gs = GridSearchCV(rfc_pipe, param_grid, cv=5)"
   ]
  },
  {
   "cell_type": "code",
   "execution_count": 97,
   "metadata": {},
   "outputs": [
    {
     "data": {
      "text/plain": [
       "GridSearchCV(cv=5,\n",
       "             estimator=Pipeline(steps=[('preprocess',\n",
       "                                        ColumnTransformer(transformers=[('num_transformer',\n",
       "                                                                         Pipeline(steps=[('imputer',\n",
       "                                                                                          SimpleImputer(strategy='median')),\n",
       "                                                                                         ('scaler',\n",
       "                                                                                          StandardScaler())]),\n",
       "                                                                         ['Age',\n",
       "                                                                          'RoomService',\n",
       "                                                                          'FoodCourt',\n",
       "                                                                          'ShoppingMall',\n",
       "                                                                          'Spa',\n",
       "                                                                          'VRDeck']),\n",
       "                                                                        ('cat_transformer',\n",
       "                                                                         Pipeline(steps=[('impute',\n",
       "                                                                                          SimpleImputer(strategy='most_frequent')),\n",
       "                                                                                         ('ohe',\n",
       "                                                                                          OneHotEncoder(sparse=False))]),\n",
       "                                                                         ['HomePlanet',\n",
       "                                                                          'CryoSleep',\n",
       "                                                                          'Destination',\n",
       "                                                                          'VIP'])])),\n",
       "                                       ('rfc', RandomForestClassifier())]),\n",
       "             param_grid={'rfc__max_depth': [2, 8, 12, 20],\n",
       "                         'rfc__min_samples_split': [2, 6]})"
      ]
     },
     "execution_count": 97,
     "metadata": {},
     "output_type": "execute_result"
    }
   ],
   "source": [
    "gs.fit(X_train, y_train)"
   ]
  },
  {
   "cell_type": "code",
   "execution_count": 102,
   "metadata": {},
   "outputs": [
    {
     "data": {
      "text/plain": [
       "RandomForestClassifier(max_depth=8, min_samples_split=6)"
      ]
     },
     "execution_count": 102,
     "metadata": {},
     "output_type": "execute_result"
    }
   ],
   "source": [
    "gs.best_estimator_.named_steps['rfc']"
   ]
  },
  {
   "cell_type": "code",
   "execution_count": 103,
   "metadata": {},
   "outputs": [
    {
     "data": {
      "text/plain": [
       "0.8289129622711991"
      ]
     },
     "execution_count": 103,
     "metadata": {},
     "output_type": "execute_result"
    }
   ],
   "source": [
    "gs.best_estimator_.score(X_train, y_train)"
   ]
  },
  {
   "cell_type": "code",
   "execution_count": 104,
   "metadata": {},
   "outputs": [
    {
     "data": {
      "text/plain": [
       "0.7998506348020911"
      ]
     },
     "execution_count": 104,
     "metadata": {},
     "output_type": "execute_result"
    }
   ],
   "source": [
    "gs.best_estimator_.score(X_test, y_test)"
   ]
  },
  {
   "cell_type": "code",
   "execution_count": null,
   "metadata": {},
   "outputs": [],
   "source": []
  },
  {
   "cell_type": "code",
   "execution_count": null,
   "metadata": {},
   "outputs": [],
   "source": []
  }
 ],
 "metadata": {
  "kernelspec": {
   "display_name": "hsbc-env",
   "language": "python",
   "name": "hsbc-env"
  },
  "language_info": {
   "codemirror_mode": {
    "name": "ipython",
    "version": 3
   },
   "file_extension": ".py",
   "mimetype": "text/x-python",
   "name": "python",
   "nbconvert_exporter": "python",
   "pygments_lexer": "ipython3",
   "version": "3.9.7"
  }
 },
 "nbformat": 4,
 "nbformat_minor": 4
}
